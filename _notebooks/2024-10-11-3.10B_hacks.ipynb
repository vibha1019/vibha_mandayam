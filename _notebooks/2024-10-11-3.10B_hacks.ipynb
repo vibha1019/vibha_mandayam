{
 "cells": [
  {
   "cell_type": "raw",
   "metadata": {
    "vscode": {
     "languageId": "raw"
    }
   },
   "source": [
    "---\n",
    "layout: post\n",
    "title: 3.10B Hacks\n",
    "description: Python/Javascript Popcorn and HW hacks\n",
    "permalink: /github/pages/3_10B_hacks\n",
    "type: ccc\n",
    "author: Vibha Mandayam\n",
    "---"
   ]
  },
  {
   "cell_type": "markdown",
   "metadata": {},
   "source": [
    "## 3.10.1 Popcorn Hacks"
   ]
  },
  {
   "cell_type": "code",
   "execution_count": null,
   "metadata": {
    "vscode": {
     "languageId": "javascript"
    }
   },
   "outputs": [],
   "source": [
    "// Create an array\n",
    "let myArray = [1, 2, 3, 4, 5];\n",
    "\n",
    "// Reverse the array\n",
    "myArray.reverse();\n",
    "\n",
    "// Output the reversed array\n",
    "console.log(myArray);\n"
   ]
  },
  {
   "cell_type": "code",
   "execution_count": null,
   "metadata": {
    "vscode": {
     "languageId": "javascript"
    }
   },
   "outputs": [],
   "source": [
    "// Create an empty array\n",
    "let myArray = [];\n",
    "\n",
    "// Add elements using unshift()\n",
    "myArray.unshift(3); // [3]\n",
    "myArray.unshift(2); // [2, 3]\n",
    "myArray.unshift(1); // [1, 2, 3]\n",
    "\n",
    "// Use the spread operator to add more elements\n",
    "myArray = [0, ...myArray]; // [0, 1, 2, 3]\n",
    "\n",
    "// Output the array\n",
    "console.log(myArray);\n"
   ]
  },
  {
   "cell_type": "code",
   "execution_count": null,
   "metadata": {
    "vscode": {
     "languageId": "javascript"
    }
   },
   "outputs": [],
   "source": [
    "// Original array\n",
    "let numbers = [10, 25, 30, 47, 50, 65];\n",
    "\n",
    "// Use filter() to create a new array with only even numbers\n",
    "let evenNumbers = numbers.filter(num => num % 2 === 0);\n",
    "\n",
    "// Output the new array\n",
    "console.log(evenNumbers);\n"
   ]
  },
  {
   "cell_type": "markdown",
   "metadata": {},
   "source": [
    "## 3.10.2 Popcorn Hacks"
   ]
  },
  {
   "cell_type": "code",
   "execution_count": null,
   "metadata": {},
   "outputs": [],
   "source": [
    "# Create a list\n",
    "my_list = ['apple', 'banana', 'cherry']\n",
    "\n",
    "# Use insert() method with a negative index\n",
    "my_list.insert(-1, 'orange')  # Inserts 'orange' at the second-to-last position\n",
    "\n",
    "# Output the updated list\n",
    "print(my_list)\n"
   ]
  },
  {
   "cell_type": "code",
   "execution_count": null,
   "metadata": {},
   "outputs": [],
   "source": [
    "# First list\n",
    "list1 = ['apple', 'banana', 'cherry']\n",
    "\n",
    "# Second list\n",
    "list2 = ['orange', 'pear', 'grape']\n",
    "\n",
    "# Combine lists using the extend() method (popcorn hack)\n",
    "list1.extend(list2)\n",
    "\n",
    "# Output the combined list\n",
    "print(list1)\n"
   ]
  },
  {
   "cell_type": "code",
   "execution_count": null,
   "metadata": {},
   "outputs": [],
   "source": [
    "# Create a list\n",
    "my_list = ['apple', 'banana', 'cherry', 'orange', 'pear', 'grape']\n",
    "\n",
    "# Method 1: Using remove() to remove an item by value\n",
    "my_list.remove('banana')\n",
    "\n",
    "# Method 2: Using pop() to remove an item by index (let's remove the last item)\n",
    "my_list.pop()  # Removes 'grape'\n",
    "\n",
    "# Method 3: Using del to remove an item by index (let's remove the first item)\n",
    "del my_list[0]  # Removes 'apple'\n",
    "\n",
    "# Output the updated list\n",
    "print(my_list)\n"
   ]
  },
  {
   "cell_type": "markdown",
   "metadata": {},
   "source": [
    "## 3.10.3 Main Hacks"
   ]
  },
  {
   "cell_type": "code",
   "execution_count": null,
   "metadata": {},
   "outputs": [],
   "source": [
    "# Step 1: Create an empty list to store grocery items\n",
    "grocery_list = []\n",
    "\n",
    "# Step 2: Input three grocery items and add them to the list\n",
    "for i in range(3):\n",
    "    item = input(f\"Enter grocery item {i + 1}: \")\n",
    "    grocery_list.append(item)\n",
    "\n",
    "# Step 3: Display the current grocery list\n",
    "print(\"\\nCurrent Grocery List:\", grocery_list)\n",
    "\n",
    "# Step 4: Sort the list alphabetically and print the sorted list\n",
    "grocery_list.sort()\n",
    "print(\"\\nSorted Grocery List:\", grocery_list)\n",
    "\n",
    "# Step 5: Remove one item specified by the user\n",
    "item_to_remove = input(\"\\nEnter an item to remove from the list: \")\n",
    "if item_to_remove in grocery_list:\n",
    "    grocery_list.remove(item_to_remove)\n",
    "    print(\"\\nUpdated Grocery List:\", grocery_list)\n",
    "else:\n",
    "    print(f\"\\n'{item_to_remove}' is not in the grocery list.\")\n"
   ]
  },
  {
   "cell_type": "code",
   "execution_count": null,
   "metadata": {},
   "outputs": [],
   "source": [
    "# Step 1: Create a list of integers from 1 to 20\n",
    "original_list = list(range(1, 21))\n",
    "\n",
    "# Step 2: Print the original list\n",
    "print(\"Original List:\", original_list)\n",
    "\n",
    "# Step 3: Create a new list that contains only the even numbers using list comprehension\n",
    "even_numbers = [num for num in original_list if num % 2 == 0]\n",
    "\n",
    "# Step 4: Print the list of even numbers\n",
    "print(\"Even Numbers:\", even_numbers)\n"
   ]
  },
  {
   "cell_type": "code",
   "execution_count": null,
   "metadata": {},
   "outputs": [],
   "source": [
    "# Step 1: Create an empty list to store student grades\n",
    "grades = []\n",
    "\n",
    "# Step 2: Input three grades (as integers) and add them to the list\n",
    "for i in range(3):\n",
    "    while True:  # Loop until a valid integer is entered\n",
    "        try:\n",
    "            grade = int(input(f\"Enter grade {i + 1}: \"))\n",
    "            grades.append(grade)\n",
    "            break  # Exit the loop if input is valid\n",
    "        except ValueError:  # Handle invalid input\n",
    "            print(\"Please enter a valid integer.\")\n",
    "\n",
    "# Step 3: Print the list of grades after all grades are entered\n",
    "print(\"\\nList of Grades:\", grades)\n",
    "\n",
    "# Step 4: Create a new list that contains only grades above 60\n",
    "passing_grades = [grade for grade in grades if grade > 60]\n",
    "\n",
    "# Print this list\n",
    "print(\"Grades above 60:\", passing_grades)\n"
   ]
  },
  {
   "cell_type": "code",
   "execution_count": null,
   "metadata": {},
   "outputs": [],
   "source": [
    "# Step 1: Create a list of numbers from 1 to 10 (integers)\n",
    "numbers = list(range(1, 11))\n",
    "\n",
    "# Step 2: Print the original list\n",
    "print(\"Original List:\", numbers)\n",
    "\n",
    "# Step 3: Sort the list in descending order\n",
    "numbers.sort(reverse=True)\n",
    "print(\"Sorted in Descending Order:\", numbers)\n",
    "\n",
    "# Step 4: Slice the list to get the first five numbers and print them\n",
    "first_five = numbers[:5]\n",
    "print(\"First Five Numbers:\", first_five)\n",
    "\n",
    "# Step 5: Sort the list again in ascending order and print it\n",
    "numbers.sort()\n",
    "print(\"Sorted in Ascending Order:\", numbers)\n"
   ]
  },
  {
   "cell_type": "markdown",
   "metadata": {},
   "source": [
    "## 3.10.4 Main Hacks"
   ]
  },
  {
   "cell_type": "code",
   "execution_count": null,
   "metadata": {
    "vscode": {
     "languageId": "javascript"
    }
   },
   "outputs": [],
   "source": [
    "// Step 1: Create an array with at least 5 values\n",
    "let myArray = ['apple', 'banana', 'cherry', 'date', 'fig'];\n",
    "\n",
    "// Step 2: Display the array using console.log()\n",
    "console.log(\"Original Array:\", myArray);\n",
    "\n",
    "// Bonus: Use the reverse() popcorn hack to reverse the array\n",
    "myArray = [...myArray].reverse(); // Create a copy and reverse it\n",
    "\n",
    "// Display the reversed array\n",
    "console.log(\"Reversed Array:\", myArray);\n"
   ]
  },
  {
   "cell_type": "code",
   "execution_count": null,
   "metadata": {
    "vscode": {
     "languageId": "javascript"
    }
   },
   "outputs": [],
   "source": [
    "// Given array\n",
    "const sports = [\"soccer\", \"football\", \"basketball\", \"wrestling\", \"swimming\"];\n",
    "\n",
    "// Display values \"soccer\" and \"wrestling\" using their indexes\n",
    "console.log(\"First sport:\", sports[0]); // Accessing 'soccer'\n",
    "console.log(\"Fourth sport:\", sports[3]); // Accessing 'wrestling'\n"
   ]
  },
  {
   "cell_type": "code",
   "execution_count": null,
   "metadata": {
    "vscode": {
     "languageId": "javascript"
    }
   },
   "outputs": [],
   "source": [
    "// Create an array called choresList initialized with four items\n",
    "let choresList = [\"laundry\", \"dishes\", \"vacuuming\", \"grocery shopping\"];\n",
    "\n",
    "// Display the initial list\n",
    "console.log(\"Initial chores list:\", choresList);\n",
    "\n",
    "// Using push() to add an item\n",
    "choresList.push(\"dusting\");\n",
    "console.log(\"After push:\", choresList);\n",
    "\n",
    "// Using shift() to remove the first item\n",
    "choresList.shift();\n",
    "console.log(\"After shift:\", choresList);\n",
    "\n",
    "// Using pop() to remove the last item\n",
    "choresList.pop();\n",
    "console.log(\"After pop:\", choresList);\n",
    "\n",
    "// Using unshift() to add an item to the beginning\n",
    "choresList.unshift(\"clean windows\");\n",
    "console.log(\"After unshift:\", choresList);\n",
    "\n",
    "// Bonus: Use the push() and spread operator popcorn hack to add multiple values\n",
    "choresList.push(...[\"mopping\", \"organizing\", \"watering plants\"]);\n",
    "console.log(\"After pushing multiple values:\", choresList);\n"
   ]
  },
  {
   "cell_type": "code",
   "execution_count": null,
   "metadata": {
    "vscode": {
     "languageId": "javascript"
    }
   },
   "outputs": [],
   "source": [
    "// Step 1: Create an array with ten random numbers (both even and odd)\n",
    "const randomNumbers = [12, 7, 19, 24, 33, 8, 5, 10, 21, 40];\n",
    "\n",
    "// Step 2: Function to count even numbers in the array\n",
    "function countEvenNumbers(arr) {\n",
    "    let count = 0; // Initialize count to zero\n",
    "    for (let num of arr) {\n",
    "        if (num % 2 === 0) { // Check if the number is even\n",
    "            count++; // Increment the count if the number is even\n",
    "        }\n",
    "    }\n",
    "    return count; // Return the final count\n",
    "}\n",
    "\n",
    "// Step 3: Call the function and display the output\n",
    "const evenCount = countEvenNumbers(randomNumbers);\n",
    "console.log(\"Count of even numbers:\", evenCount);\n"
   ]
  }
 ],
 "metadata": {
  "language_info": {
   "name": "python"
  }
 },
 "nbformat": 4,
 "nbformat_minor": 2
}
