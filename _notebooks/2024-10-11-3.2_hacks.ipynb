{
 "cells": [
  {
   "cell_type": "raw",
   "metadata": {
    "vscode": {
     "languageId": "raw"
    }
   },
   "source": [
    "---\n",
    "layout: post\n",
    "title: 3.2 Hacks\n",
    "description: Python/Javascript Popcorn and HW hacks\n",
    "permalink: /github/pages/3_2_hacks\n",
    "type: ccc\n",
    "author: Vibha Mandayam\n",
    "---"
   ]
  },
  {
   "cell_type": "markdown",
   "metadata": {},
   "source": [
    "Popcorn Hack #1\n"
   ]
  },
  {
   "cell_type": "code",
   "execution_count": null,
   "metadata": {},
   "outputs": [],
   "source": [
    "# Step 1: Create a Set\n",
    "my_set = {1, 2, 3, 4, 5}\n",
    "print(\"Initial set:\", my_set)\n",
    "\n",
    "# Step 2: Add an Element\n",
    "my_set.add(6)\n",
    "print(\"After adding 6:\", my_set)\n",
    "\n",
    "# Step 3: Remove an Element\n",
    "my_set.remove(2)\n",
    "print(\"After removing 2:\", my_set)\n",
    "\n",
    "# Step 4: Union of Sets\n",
    "new_set = {7, 8, 9}\n",
    "my_set = my_set.union(new_set)\n",
    "print(\"After union with {7, 8, 9}:\", my_set)\n",
    "\n",
    "# Step 5: Clear the Set\n",
    "my_set.clear()\n",
    "print(\"After clearing the set:\", my_set)\n"
   ]
  },
  {
   "cell_type": "markdown",
   "metadata": {},
   "source": [
    "Popcorn Hack #2\n"
   ]
  },
  {
   "cell_type": "code",
   "execution_count": 3,
   "metadata": {},
   "outputs": [
    {
     "name": "stdout",
     "output_type": "stream",
     "text": [
      "Original string: Learning Python is not fun\n",
      "Length of the string: 26\n",
      "Extracted word: Python\n",
      "Uppercase string: LEARNING PYTHON IS NOT FUN\n",
      "String after replacement: Learning Python is not good\n"
     ]
    }
   ],
   "source": [
    "# Step 1: Create a String\n",
    "my_string = \"Learning Python is not fun\"\n",
    "print(\"Original string:\", my_string)\n",
    "\n",
    "# Step 2: String Length\n",
    "string_length = len(my_string)\n",
    "print(\"Length of the string:\", string_length)\n",
    "\n",
    "# Step 3: String Slicing\n",
    "extracted_word = my_string[9:15]  # \"Python\" starts at index 9 and ends before index 15\n",
    "print(\"Extracted word:\", extracted_word)\n",
    "\n",
    "# Step 4: String Uppercase\n",
    "uppercase_string = my_string.upper()\n",
    "print(\"Uppercase string:\", uppercase_string)\n",
    "\n",
    "# Step 5: String Replace\n",
    "replaced_string = my_string.replace(\"fun\", \"good\")\n",
    "print(\"String after replacement:\", replaced_string)\n"
   ]
  },
  {
   "cell_type": "markdown",
   "metadata": {},
   "source": [
    "Popcorn Hack #3\n"
   ]
  },
  {
   "cell_type": "code",
   "execution_count": 2,
   "metadata": {},
   "outputs": [
    {
     "name": "stdout",
     "output_type": "stream",
     "text": [
      "Original list: [3, 5, 7, 9, 11]\n",
      "Third element: 7\n",
      "List after modifying second element: [3, 6, 7, 9, 11]\n",
      "List after appending 13: [3, 6, 7, 9, 11, 13]\n",
      "List after removing 9: [3, 6, 7, 11, 13]\n",
      "Sorted list in descending order: [13, 11, 7, 6, 3]\n"
     ]
    }
   ],
   "source": [
    "# Step 1: Create a List\n",
    "my_list = [3, 5, 7, 9, 11]\n",
    "print(\"Original list:\", my_list)\n",
    "\n",
    "# Step 2: Access an Element\n",
    "third_element = my_list[2]  # Index 2 corresponds to the third element\n",
    "print(\"Third element:\", third_element)\n",
    "\n",
    "# Step 3: Modify an Element\n",
    "my_list[1] = 6  # Change the second element (index 1) to 6\n",
    "print(\"List after modifying second element:\", my_list)\n",
    "\n",
    "# Step 4: Add an Element\n",
    "my_list.append(13)  # Append 13 to the list\n",
    "print(\"List after appending 13:\", my_list)\n",
    "\n",
    "# Step 5: Remove an Element\n",
    "my_list.remove(9)  # Remove the element 9 from the list\n",
    "print(\"List after removing 9:\", my_list)\n",
    "\n",
    "# Bonus: Sort the list in descending order\n",
    "my_list.sort(reverse=True)\n",
    "print(\"Sorted list in descending order:\", my_list)\n"
   ]
  },
  {
   "cell_type": "markdown",
   "metadata": {},
   "source": [
    "Popcorn Hack #4 + Bonus\n"
   ]
  },
  {
   "cell_type": "code",
   "execution_count": 4,
   "metadata": {},
   "outputs": [
    {
     "name": "stdout",
     "output_type": "stream",
     "text": [
      "Personal Info Dictionary: {'name': 'Vibha Jayanth Mandayam', 'email': 'vibha@example.com', 'phone number': '123-456-7890'}\n",
      "My Name is: Vibha Jayanth Mandayam\n",
      "Overall Length of the Dictionary: 3\n",
      "Overall Type of the Dictionary: <class 'dict'>\n",
      "Another Person's Info Dictionary: {'name': 'Alex Smith', 'email': 'alex@example.com', 'phone number': '098-765-4321'}\n"
     ]
    }
   ],
   "source": [
    "# Step 1: Create a Dictionary\n",
    "personal_info = {\n",
    "    \"name\": \"Vibha Jayanth Mandayam\",\n",
    "    \"email\": \"vibha@example.com\",\n",
    "    \"phone number\": \"123-456-7890\"\n",
    "}\n",
    "\n",
    "# Step 2: Print out the Dictionary\n",
    "print(\"Personal Info Dictionary:\", personal_info)\n",
    "\n",
    "# Step 3: Print out the name from your dictionary\n",
    "print(\"My Name is:\", personal_info[\"name\"])\n",
    "\n",
    "# Step 4: Print the Length\n",
    "print(\"Overall Length of the Dictionary:\", len(personal_info))\n",
    "\n",
    "# Step 5: Print the Type\n",
    "print(\"Overall Type of the Dictionary:\", type(personal_info))\n",
    "\n",
    "# Bonus: Add another dictionary with the same keys\n",
    "another_person = {\n",
    "    \"name\": \"Alex Smith\",\n",
    "    \"email\": \"alex@example.com\",\n",
    "    \"phone number\": \"098-765-4321\"\n",
    "}\n",
    "\n",
    "# Print the new dictionary\n",
    "print(\"Another Person's Info Dictionary:\", another_person)\n"
   ]
  },
  {
   "cell_type": "markdown",
   "metadata": {},
   "source": [
    "## Homework Hacks (Python)\n"
   ]
  },
  {
   "cell_type": "markdown",
   "metadata": {},
   "source": [
    "Part 1: Create Personal Info (dict)"
   ]
  },
  {
   "cell_type": "code",
   "execution_count": 5,
   "metadata": {},
   "outputs": [
    {
     "name": "stdout",
     "output_type": "stream",
     "text": [
      "Personal Info Dictionary: {'full_name': 'Vibha Mandayam', 'years': 16, 'location': 'San Diego', 'favorite_food': 'Pizza'}\n"
     ]
    }
   ],
   "source": [
    "# Part 1: Create Personal Info (dict)\n",
    "personal_info = {\n",
    "    \"full_name\": \"Vibha Mandayam\",  # String\n",
    "    \"years\": 16,                             # Integer\n",
    "    \"location\": \"San Diego\",               # String\n",
    "    \"favorite_food\": \"Pizza\"                  # String\n",
    "}\n",
    "\n",
    "# Print the dictionary to verify\n",
    "print(\"Personal Info Dictionary:\", personal_info)\n"
   ]
  },
  {
   "cell_type": "markdown",
   "metadata": {},
   "source": [
    "Part 2: Create a List of Activities (list)\n"
   ]
  },
  {
   "cell_type": "code",
   "execution_count": null,
   "metadata": {},
   "outputs": [],
   "source": [
    "# Part 2: Create a List of Activities (list)\n",
    "activities = [\n",
    "    \"Reading\",\n",
    "    \"Coding\",\n",
    "    \"Playing basketball\"\n",
    "]\n",
    "\n",
    "# Print the activities list\n",
    "print(\"Activities List:\", activities)\n"
   ]
  },
  {
   "cell_type": "markdown",
   "metadata": {},
   "source": [
    "Part 3: Add Activities to Personal Info (dict and list)\n"
   ]
  },
  {
   "cell_type": "code",
   "execution_count": 6,
   "metadata": {},
   "outputs": [
    {
     "name": "stdout",
     "output_type": "stream",
     "text": [
      "Updated Personal Info Dictionary: {'full_name': 'Vibha Mandayam', 'years': 16, 'location': 'San Diego', 'favorite_food': 'Pizza', 'activities': ['Reading', 'Coding', 'Playing basketball']}\n"
     ]
    }
   ],
   "source": [
    "# Part 1: Create Personal Info (dict)\n",
    "personal_info = {\n",
    "    \"full_name\": \"Vibha Mandayam\",\n",
    "    \"years\": 16,\n",
    "    \"location\": \"San Diego\",\n",
    "    \"favorite_food\": \"Pizza\"\n",
    "}\n",
    "\n",
    "# Part 2: Create a List of Activities (list)\n",
    "activities = [\n",
    "    \"Reading\",\n",
    "    \"Coding\",\n",
    "    \"Playing basketball\"\n",
    "]\n",
    "\n",
    "# Part 3: Add Activities to Personal Info (dict and list)\n",
    "personal_info[\"activities\"] = activities  # Add the activities list to the dictionary\n",
    "\n",
    "# Print the updated personal_info dictionary\n",
    "print(\"Updated Personal Info Dictionary:\", personal_info)\n"
   ]
  },
  {
   "cell_type": "markdown",
   "metadata": {},
   "source": [
    "Part 4: Check Availability of an Activity (bool)\n"
   ]
  },
  {
   "cell_type": "code",
   "execution_count": 7,
   "metadata": {},
   "outputs": [
    {
     "name": "stdout",
     "output_type": "stream",
     "text": [
      "Is 'Coding' available today? True\n"
     ]
    }
   ],
   "source": [
    "# Part 1: Create Personal Info (dict)\n",
    "personal_info = {\n",
    "    \"full_name\": \"Vibha Mandayam\",\n",
    "    \"years\": 15,\n",
    "    \"location\": \"San Diego\",\n",
    "    \"favorite_food\": \"Pizza\",\n",
    "    \"activities\": [\n",
    "        \"Reading\",\n",
    "        \"Coding\",\n",
    "        \"Playing basketball\"\n",
    "    ]\n",
    "}\n",
    "\n",
    "# Part 4: Check Availability of an Activity (bool)\n",
    "# Choose an activity to check\n",
    "chosen_activity = \"Coding\"\n",
    "\n",
    "# Set activity_available based on whether the activity is available today\n",
    "activity_available = True  # Set to False if the activity is not available today\n",
    "\n",
    "# Print the availability message\n",
    "print(f\"Is '{chosen_activity}' available today? {activity_available}\")\n"
   ]
  },
  {
   "cell_type": "markdown",
   "metadata": {},
   "source": [
    "Part 5: Total Number of Activities (int)\n"
   ]
  },
  {
   "cell_type": "code",
   "execution_count": 8,
   "metadata": {},
   "outputs": [
    {
     "name": "stdout",
     "output_type": "stream",
     "text": [
      "I have 3 activities.\n"
     ]
    }
   ],
   "source": [
    "# Part 1: Create Personal Info (dict)\n",
    "personal_info = {\n",
    "    \"full_name\": \"Vibha Mandayam\",\n",
    "    \"years\": 15,\n",
    "    \"location\": \"SD\",\n",
    "    \"favorite_food\": \"Pizza\",\n",
    "    \"activities\": [\n",
    "        \"Reading\",\n",
    "        \"Coding\",\n",
    "        \"Playing basketball\"\n",
    "    ]\n",
    "}\n",
    "\n",
    "# Part 5: Total Number of Activities (int)\n",
    "total_activities = len(personal_info[\"activities\"])  # Get the number of activities in the list\n",
    "\n",
    "# Print the message\n",
    "print(f\"I have {total_activities} activities.\")\n"
   ]
  },
  {
   "cell_type": "markdown",
   "metadata": {},
   "source": [
    "Part 6: Favorite Activities (tuple)"
   ]
  },
  {
   "cell_type": "code",
   "execution_count": null,
   "metadata": {},
   "outputs": [],
   "source": [
    "# Part 6: Favorite Activities (tuple)\n",
    "favorite_activities = (\n",
    "    \"Reading\",\n",
    "    \"Coding\"\n",
    ")\n",
    "\n",
    "# Print the favorite_activities tuple\n",
    "print(\"Favorite Activities Tuple:\", favorite_activities)\n"
   ]
  },
  {
   "cell_type": "markdown",
   "metadata": {},
   "source": [
    "Part 7: Add a New Set of Skills (set)\n"
   ]
  },
  {
   "cell_type": "code",
   "execution_count": 9,
   "metadata": {},
   "outputs": [
    {
     "name": "stdout",
     "output_type": "stream",
     "text": [
      "Skills Set: {'Python programming', 'Problem-solving', 'Communication'}\n"
     ]
    }
   ],
   "source": [
    "# Part 7: Add a New Set of Skills (set)\n",
    "skills = set()  # Create an empty set\n",
    "\n",
    "# Add unique skills to the set\n",
    "skills.add(\"Python programming\")\n",
    "skills.add(\"Communication\")\n",
    "skills.add(\"Problem-solving\")\n",
    "\n",
    "# Print the set of skills\n",
    "print(\"Skills Set:\", skills)\n"
   ]
  },
  {
   "cell_type": "markdown",
   "metadata": {},
   "source": [
    "Part 8: Consider a New Skill (NoneType)\n"
   ]
  },
  {
   "cell_type": "code",
   "execution_count": 10,
   "metadata": {},
   "outputs": [
    {
     "name": "stdout",
     "output_type": "stream",
     "text": [
      "New Skill: None\n"
     ]
    }
   ],
   "source": [
    "# Part 8: Consider a New Skill (NoneType)\n",
    "new_skill = None  # You haven't decided yet\n",
    "\n",
    "# Print the value of new_skill\n",
    "print(\"New Skill:\", new_skill)\n"
   ]
  },
  {
   "cell_type": "markdown",
   "metadata": {},
   "source": [
    "Part 9: Calculate Total Hobby and Skill Cost (float)\n"
   ]
  },
  {
   "cell_type": "code",
   "execution_count": 11,
   "metadata": {},
   "outputs": [
    {
     "name": "stdout",
     "output_type": "stream",
     "text": [
      "Total cost to pursue activities and develop skills: $45.00\n"
     ]
    }
   ],
   "source": [
    "# Part 9: Calculate Total Hobby and Skill Cost (float)\n",
    "\n",
    "# Define costs\n",
    "activity_cost = 5.0  # Cost per activity\n",
    "skill_cost = 10.0    # Cost per skill\n",
    "\n",
    "# Number of activities and skills\n",
    "total_activities = 3  # From previous steps\n",
    "total_skills = len(skills)  # Count the number of skills in the set\n",
    "\n",
    "# Calculate total cost\n",
    "total_cost = (total_activities * activity_cost) + (total_skills * skill_cost)\n",
    "\n",
    "# Print the total cost\n",
    "print(f\"Total cost to pursue activities and develop skills: ${total_cost:.2f}\")\n"
   ]
  },
  {
   "cell_type": "markdown",
   "metadata": {},
   "source": [
    "## Javascript Popcorn Hacks\n"
   ]
  },
  {
   "cell_type": "markdown",
   "metadata": {},
   "source": [
    "Popcorn Hack 1 (SETS):\n"
   ]
  },
  {
   "cell_type": "code",
   "execution_count": null,
   "metadata": {
    "vscode": {
     "languageId": "javascript"
    }
   },
   "outputs": [],
   "source": [
    "// Create a set called Set1 of 3 numbers\n",
    "const Set1 = new Set([1, 2, 3]); // You can choose any numbers\n",
    "\n",
    "// Create a set called Set2 of different 3 numbers\n",
    "const Set2 = new Set([4, 5, 6]); // Choose different numbers from Set1\n",
    "\n",
    "// Log both sets separately\n",
    "console.log(\"Set1:\", Array.from(Set1));\n",
    "console.log(\"Set2:\", Array.from(Set2));\n",
    "\n",
    "// Add a number to Set1\n",
    "Set1.add(7); // Adding the number 7 to Set1\n",
    "console.log(\"Set1 after adding 7:\", Array.from(Set1));\n",
    "\n",
    "// Remove the 1st number from Set1 (in this case, we remove the number 1)\n",
    "Set1.delete(1); // Removing the number 1 from Set1\n",
    "console.log(\"Set1 after removing 1:\", Array.from(Set1));\n",
    "\n",
    "// Log the union of both Set1 and Set2\n",
    "const unionSet = new Set([...Set1, ...Set2]); // Create a union of both sets\n",
    "console.log(\"Union of Set1 and Set2:\", Array.from(unionSet));\n"
   ]
  },
  {
   "cell_type": "code",
   "execution_count": null,
   "metadata": {
    "vscode": {
     "languageId": "javascript"
    }
   },
   "outputs": [],
   "source": [
    "// Create a Dictionary called \"application\"\n",
    "const application = {\n",
    "    name: \"Ruhee Banthia\",        // Name of the person\n",
    "    age: 15,                 // Age of the person\n",
    "    experiences: [           // Array of experiences\n",
    "        \"Influencer\",\n",
    "        \"Veternarian\",\n",
    "        \"Swimmer\"\n",
    "    ],\n",
    "    money: 150000000             // Amount of money\n",
    "};\n",
    "\n",
    "// Log the dictionary to make sure it works\n",
    "console.log(\"Application Dictionary:\", application);\n",
    "\n",
    "// Log only the dictionary’s money\n",
    "console.log(\"Money:\", application.money);\n"
   ]
  },
  {
   "cell_type": "markdown",
   "metadata": {},
   "source": [
    "## Homework Hacks"
   ]
  },
  {
   "cell_type": "code",
   "execution_count": null,
   "metadata": {
    "vscode": {
     "languageId": "javascript"
    }
   },
   "outputs": [],
   "source": [
    "// Function to gather applicant information\n",
    "function gatherApplicantInfo() {\n",
    "    // Create an empty dictionary (object) to store applicant information\n",
    "    const applicant = {};\n",
    "\n",
    "    // Ask for the applicant's name\n",
    "    applicant.name = prompt(\"What is your name?\");\n",
    "    \n",
    "    // Ask for the applicant's age\n",
    "    applicant.age = prompt(\"What is your age?\");\n",
    "    \n",
    "    // Ask for the applicant's experiences\n",
    "    const experiences = [];\n",
    "    let experience;\n",
    "    \n",
    "    // Keep asking for experiences until the user types \"done\"\n",
    "    while (true) {\n",
    "        experience = prompt(\"Enter an experience (or type 'done' to finish):\");\n",
    "        if (experience.toLowerCase() === 'done') {\n",
    "            break;  // Exit the loop if the user types 'done'\n",
    "        }\n",
    "        experiences.push(experience);  // Add the experience to the array\n",
    "    }\n",
    "    applicant.experiences = experiences; // Store the experiences in the dictionary\n",
    "\n",
    "    // Log the user's input\n",
    "    console.log(\"Applicant Information:\", applicant);\n",
    "}\n",
    "\n",
    "// Call the function to gather information\n",
    "gatherApplicantInfo();\n"
   ]
  }
 ],
 "metadata": {
  "kernelspec": {
   "display_name": "Python 3",
   "language": "python",
   "name": "python3"
  },
  "language_info": {
   "codemirror_mode": {
    "name": "ipython",
    "version": 3
   },
   "file_extension": ".py",
   "mimetype": "text/x-python",
   "name": "python",
   "nbconvert_exporter": "python",
   "pygments_lexer": "ipython3",
   "version": "3.10.2"
  }
 },
 "nbformat": 4,
 "nbformat_minor": 2
}
