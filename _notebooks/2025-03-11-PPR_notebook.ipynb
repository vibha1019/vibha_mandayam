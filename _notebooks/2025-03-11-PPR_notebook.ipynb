{
 "cells": [
  {
   "cell_type": "code",
   "execution_count": null,
   "metadata": {
    "vscode": {
     "languageId": "plaintext"
    }
   },
   "outputs": [],
   "source": [
    "---\n",
    "layout: post\n",
    "title: PPR Notebook\n",
    "permalink: /github/pages/ppr\n",
    "type: ccc\n",
    "author: Vibha Mandayam\n",
    "---"
   ]
  },
  {
   "cell_type": "markdown",
   "metadata": {},
   "source": [
    "### PPR 1:\n",
    "- Defines the procedure’s name and return type (if necessary).\n",
    "- Contains and uses one or more parameters that have an effect on the functionality of the procedure.\n",
    "- Implements an algorithm that includes:\n",
    "  - Sequencing\n",
    "  - Selection\n",
    "  - Iteration\n"
   ]
  },
  {
   "cell_type": "code",
   "execution_count": null,
   "metadata": {
    "vscode": {
     "languageId": "javascript"
    }
   },
   "outputs": [],
   "source": [
    "function renderCalendar() {\n",
    "    const monthYear = document.getElementById(\"month-year\");\n",
    "    const calendarDays = document.getElementById(\"calendar-days\");\n",
    "    monthYear.textContent = `${new Date(currentYear, currentMonth).toLocaleString('default', { month: 'long' })} ${currentYear}`;\n",
    "    calendarDays.innerHTML = \"\";\n",
    "\n",
    "    const firstDay = new Date(currentYear, currentMonth, 1).getDay();\n",
    "    const daysInMonth = new Date(currentYear, currentMonth + 1, 0).getDate();\n",
    "\n",
    "    for (let i = 0; i < firstDay; i++) {\n",
    "        calendarDays.appendChild(document.createElement(\"div\"));\n",
    "    }\n",
    "\n",
    "    for (let day = 1; day <= daysInMonth; day++) {\n",
    "        const dayCell = document.createElement(\"div\");\n",
    "        dayCell.classList.add(\"day\");\n",
    "        dayCell.textContent = day;\n",
    "\n",
    "        const formattedDate = `${currentYear}-${String(currentMonth + 1).padStart(2, '0')}-${String(day).padStart(2, '0')}`;\n",
    "        const eventsOnDay = events.filter(event => new Date(event.date).toISOString().split(\"T\")[0] === formattedDate);\n",
    "\n",
    "        if (eventsOnDay.length > 0) {\n",
    "            dayCell.classList.add(\"event-day\");\n",
    "\n",
    "            eventsOnDay.forEach(event => {\n",
    "                const emoji = document.createElement(\"div\");\n",
    "                emoji.classList.add(\"event-emoji\");\n",
    "                emoji.textContent = \"❗\";\n",
    "                emoji.title = `${event.name} @ ${event.location}`;\n",
    "                dayCell.appendChild(emoji);\n",
    "            });\n",
    "        }\n",
    "\n",
    "        dayCell.addEventListener(\"click\", () => {\n",
    "            document.getElementById(\"startDate\").value = formattedDate;\n",
    "        });\n",
    "\n",
    "        calendarDays.appendChild(dayCell);\n",
    "    }\n",
    "}\n"
   ]
  },
  {
   "cell_type": "markdown",
   "metadata": {},
   "source": [
    "### Why This Works\n",
    "###  Defines a Student-Developed Procedure  \n",
    "- The function `renderCalendar()` is a student-developed procedure with a meaningful name.  \n",
    "- It is responsible for dynamically generating a calendar layout based on the current month and year.  \n",
    "\n",
    "### Uses Parameters That Affect Functionality  \n",
    "- The function relies on two global parameters: `currentYear` and `currentMonth`.  \n",
    "- These parameters determine which month's calendar is displayed, affecting the output.  \n",
    "\n",
    "### Implements an Algorithm That Includes:  \n",
    "\n",
    "####  Sequencing (Step-by-step execution)  \n",
    "- The function first updates the month-year display.  \n",
    "- Then, it clears the previous calendar content.  \n",
    "- It determines the number of days in the month and iterates to create the calendar structure.  \n",
    "\n",
    "####  Selection (Conditional logic)  \n",
    "- The `if (eventsOnDay.length > 0)` statement checks if there are events on a particular day.  \n",
    "- If events exist, it marks the day and adds an emoji to indicate an event.  \n",
    "\n",
    "####  Iteration (Loops)  \n",
    "- A `for` loop (`for (let i = 0; i < firstDay; i++)`) adds empty placeholders for days before the first of the month.  \n",
    "- Another `for` loop (`for (let day = 1; day <= daysInMonth; day++)`) iterates through all the days in the month, generating a calendar cell for each.  \n",
    "- The `.forEach(event => {...})` inside the selection statement iterates through events occurring on a given day.  \n",
    "\n",
    "This function effectively meets all rubric requirements for the AP CSP PPR submission.\n"
   ]
  },
  {
   "cell_type": "markdown",
   "metadata": {},
   "source": [
    "### PPR 2\n",
    "The second program code segment must show where your student-developed procedure is being called in your program."
   ]
  },
  {
   "cell_type": "code",
   "execution_count": null,
   "metadata": {
    "vscode": {
     "languageId": "javascript"
    }
   },
   "outputs": [],
   "source": [
    "window.changeMonth = function (direction) {\n",
    "    currentMonth += direction;\n",
    "    if (currentMonth < 0) {\n",
    "        currentMonth = 11;\n",
    "        currentYear--;\n",
    "    } else if (currentMonth > 11) {\n",
    "        currentMonth = 0;\n",
    "        currentYear++;\n",
    "    }\n",
    "    fetchEvents(); // Fetch events for the new month\n",
    "    renderCalendar(); // Update the calendar view immediately\n",
    "};\n"
   ]
  },
  {
   "cell_type": "markdown",
   "metadata": {},
   "source": [
    "### Why This Works:\n",
    "- `renderCalendar()` is called inside `changeMonth()`, ensuring that the calendar updates dynamically when the user navigates between months.  \n",
    "- This demonstrates how the student-developed procedure is integrated into the program’s functionality.  \n",
    "- The function updates `currentMonth` and `currentYear`, fetches events for the new month, and then calls `renderCalendar()` to reflect the changes.  \n"
   ]
  },
  {
   "cell_type": "markdown",
   "metadata": {},
   "source": [
    "### PPR 3\n",
    "The first program code segment must show how data have been stored in the list."
   ]
  },
  {
   "cell_type": "code",
   "execution_count": null,
   "metadata": {
    "vscode": {
     "languageId": "javascript"
    }
   },
   "outputs": [],
   "source": [
    "document.getElementById(\"eventForm\").addEventListener(\"submit\", async function(event) {\n",
    "    event.preventDefault();\n",
    "\n",
    "    const postData = {\n",
    "        name: document.getElementById(\"eventName\").value,\n",
    "        location: document.getElementById(\"eventLocation\").value,\n",
    "        date: document.getElementById(\"startDate\").value,  // YYYY-MM-DD format\n",
    "    };\n",
    "\n",
    "    console.log(\"Event Data:\", postData);  // Log event data for debugging\n",
    "\n",
    "    try {\n",
    "        const response = await fetch(`${pythonURI}/api/event`, {\n",
    "            ...fetchOptions,\n",
    "            method: 'POST',\n",
    "            headers: { 'Content-Type': 'application/json' },\n",
    "            body: JSON.stringify(postData)\n",
    "        });\n",
    "\n",
    "        if (!response.ok) {\n",
    "            const errorMessage = await response.text();\n",
    "            throw new Error(`Failed to add event: ${response.statusText} - ${errorMessage}`);\n",
    "        }\n",
    "\n",
    "        const createdEvent = await response.json();\n",
    "        alert(\"Event added successfully!\");\n",
    "\n",
    "        if (createdEvent.id) {\n",
    "            events.push(createdEvent);  // ✅ Storing the new event in the list\n",
    "            renderCalendar(); // Update calendar display\n",
    "            displayEvents(); // Show updated event list\n",
    "        } else {\n",
    "            console.error(\"Error: Event created but no ID returned from API\");\n",
    "        }\n",
    "\n",
    "        this.reset(); // Clear the form\n",
    "    } catch (error) {\n",
    "        console.error(\"Error:\", error);\n",
    "        alert(\"Error adding event. Please try again.\");\n",
    "    }\n",
    "});\n"
   ]
  },
  {
   "cell_type": "markdown",
   "metadata": {
    "vscode": {
     "languageId": "javascript"
    }
   },
   "source": [
    "### Why This Works:\n",
    "- The `events` list is used to store newly added events.\n",
    "- The `push()` method adds new events to the list.\n",
    "- The stored events are later displayed in the calendar and event list.\n"
   ]
  },
  {
   "cell_type": "markdown",
   "metadata": {},
   "source": [
    "### PPR 4\n",
    "The second program code segment must show the data in the\n",
    "same list being used, such as creating new data from the existing\n",
    "data or accessing multiple elements in the list, as part of fulfilling\n",
    "the program’s purpose."
   ]
  },
  {
   "cell_type": "code",
   "execution_count": null,
   "metadata": {
    "vscode": {
     "languageId": "javascript"
    }
   },
   "outputs": [],
   "source": [
    "const eventsOnDay = events.filter(event => \n",
    "    new Date(event.date).toISOString().split(\"T\")[0] === formattedDate\n",
    ");\n",
    "\n",
    "if (eventsOnDay.length > 0) {\n",
    "    dayCell.classList.add(\"event-day\");\n",
    "\n",
    "    eventsOnDay.forEach(event => {\n",
    "        const emoji = document.createElement(\"div\");\n",
    "        emoji.classList.add(\"event-emoji\");\n",
    "        emoji.textContent = \"❗\";\n",
    "        emoji.title = `${event.name} @ ${event.location}`;\n",
    "        dayCell.appendChild(emoji);\n",
    "    });\n",
    "}\n"
   ]
  },
  {
   "cell_type": "markdown",
   "metadata": {},
   "source": [
    "### Why This Works:\n",
    "- The `events` list is used to retrieve events occurring on a specific day.\n",
    "- The `.filter()` method accesses multiple elements in the list to check for matching dates.\n",
    "- The retrieved events are then displayed in the calendar, fulfilling the program’s purpose of tracking and visualizing events.\n"
   ]
  },
  {
   "cell_type": "markdown",
   "metadata": {},
   "source": []
  }
 ],
 "metadata": {
  "language_info": {
   "name": "python"
  }
 },
 "nbformat": 4,
 "nbformat_minor": 2
}
