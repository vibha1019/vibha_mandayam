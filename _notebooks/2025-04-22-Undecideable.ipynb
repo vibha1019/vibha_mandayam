{
 "cells": [
  {
   "cell_type": "markdown",
   "metadata": {},
   "source": [
    "---\n",
    "layout: post\n",
    "title: Big O Notation\n",
    "permalink: /und\n",
    "type: ccc\n",
    "author: Vibha Mandayam\n",
    "---"
   ]
  },
  {
   "cell_type": "markdown",
   "metadata": {},
   "source": [
    "### 1. Undecidable Problem: Post Correspondence Problem (PCP)\n",
    "The Post Correspondence Problem is an undecidable problem introduced by Emil Post in 1946. Given two lists of strings over some alphabet (say, List A and List B), the goal is to determine whether there exists a sequence of indices that, when used to concatenate corresponding strings from both lists, results in the same string.\n",
    "\n",
    "Example:\n",
    "A = [“ab”, “a”], B = [“a”, “ba”]\n",
    "Try index sequence: [1, 2]\n",
    "A[1]+A[2] = “ab”+“a” = “aba”\n",
    "B[1]+B[2] = “a”+“ba” = “aba” → Match found.\n",
    "\n",
    "However, the general case of finding such a sequence is undecidable—there’s no algorithm that solves it for all possible inputs. This problem is important in computability theory and reductions.\n",
    "\n"
   ]
  },
  {
   "cell_type": "markdown",
   "metadata": {},
   "source": [
    "### 2. Nearest Neighbor Algorithm for the Traveling Salesman Problem (TSP)\n",
    "Here’s a simple Python implementation of the Nearest Neighbor heuristic:"
   ]
  },
  {
   "cell_type": "code",
   "execution_count": null,
   "metadata": {},
   "outputs": [],
   "source": [
    "import numpy as np\n",
    "\n",
    "def nearest_neighbor_tsp(dist_matrix, start=0):\n",
    "    n = len(dist_matrix)\n",
    "    visited = [False] * n\n",
    "    tour = [start]\n",
    "    visited[start] = True\n",
    "    current = start\n",
    "\n",
    "    for _ in range(n - 1):\n",
    "        next_city = np.argmin([dist_matrix[current][j] if not visited[j] else float('inf') for j in range(n)])\n",
    "        tour.append(next_city)\n",
    "        visited[next_city] = True\n",
    "        current = next_city\n",
    "\n",
    "    tour.append(start)  # Return to start\n",
    "    return tour\n",
    "\n",
    "# Example distance matrix\n",
    "dist_matrix = [\n",
    "    [0, 2, 9, 10],\n",
    "    [1, 0, 6, 4],\n",
    "    [15, 7, 0, 8],\n",
    "    [6, 3, 12, 0]\n",
    "]\n",
    "\n",
    "print(\"Tour:\", nearest_neighbor_tsp(dist_matrix))\n"
   ]
  },
  {
   "cell_type": "markdown",
   "metadata": {},
   "source": [
    "### 3. Real-World Example of Heuristics: Google Maps Route Planning\n",
    "\n",
    "Context: Google Maps often uses heuristics when suggesting driving routes between locations.\n",
    "\n",
    "Why Not an Exact Solution?\n",
    "An exact algorithm for finding the absolute fastest route would need to consider:\n",
    "- Real-time traffic updates\n",
    "- Construction zones\n",
    "- Accidents\n",
    "- Traffic light timings\n",
    "- Turn restrictions\n",
    "\n",
    "Given the size and dynamic nature of road networks, computing an exact solution in real-time is computationally expensive and often infeasible. Instead, Google uses heuristics like A* search with estimates based on traffic history and live data to give good-enough routes quickly."
   ]
  }
 ],
 "metadata": {
  "language_info": {
   "name": "python"
  }
 },
 "nbformat": 4,
 "nbformat_minor": 2
}
