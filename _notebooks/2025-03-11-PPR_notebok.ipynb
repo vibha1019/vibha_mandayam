{
 "cells": [
  {
   "cell_type": "code",
   "execution_count": null,
   "metadata": {
    "vscode": {
     "languageId": "plaintext"
    }
   },
   "outputs": [],
   "source": [
    "---\n",
    "layout: post\n",
    "title: PPR Notebook\n",
    "permalink: /github/pages/ppr\n",
    "type: ccc\n",
    "author: Vibha Mandayam\n",
    "---"
   ]
  },
  {
   "cell_type": "markdown",
   "metadata": {},
   "source": []
  },
  {
   "cell_type": "code",
   "execution_count": null,
   "metadata": {
    "vscode": {
     "languageId": "javascript"
    }
   },
   "outputs": [],
   "source": [
    "function renderCalendar() {\n",
    "    const monthYear = document.getElementById(\"month-year\");\n",
    "    const calendarDays = document.getElementById(\"calendar-days\");\n",
    "    monthYear.textContent = `${new Date(currentYear, currentMonth).toLocaleString('default', { month: 'long' })} ${currentYear}`;\n",
    "    calendarDays.innerHTML = \"\";\n",
    "\n",
    "    const firstDay = new Date(currentYear, currentMonth, 1).getDay();\n",
    "    const daysInMonth = new Date(currentYear, currentMonth + 1, 0).getDate();\n",
    "\n",
    "    for (let i = 0; i < firstDay; i++) {\n",
    "        calendarDays.appendChild(document.createElement(\"div\"));\n",
    "    }\n",
    "\n",
    "    for (let day = 1; day <= daysInMonth; day++) {\n",
    "        const dayCell = document.createElement(\"div\");\n",
    "        dayCell.classList.add(\"day\");\n",
    "        dayCell.textContent = day;\n",
    "\n",
    "        const formattedDate = `${currentYear}-${String(currentMonth + 1).padStart(2, '0')}-${String(day).padStart(2, '0')}`;\n",
    "        const eventsOnDay = events.filter(event => new Date(event.date).toISOString().split(\"T\")[0] === formattedDate);\n",
    "\n",
    "        if (eventsOnDay.length > 0) {\n",
    "            dayCell.classList.add(\"event-day\");\n",
    "\n",
    "            eventsOnDay.forEach(event => {\n",
    "                const emoji = document.createElement(\"div\");\n",
    "                emoji.classList.add(\"event-emoji\");\n",
    "                emoji.textContent = \"❗\";\n",
    "                emoji.title = `${event.name} @ ${event.location}`;\n",
    "                dayCell.appendChild(emoji);\n",
    "            });\n",
    "        }\n",
    "\n",
    "        dayCell.addEventListener(\"click\", () => {\n",
    "            document.getElementById(\"startDate\").value = formattedDate;\n",
    "        });\n",
    "\n",
    "        calendarDays.appendChild(dayCell);\n",
    "    }\n",
    "}\n"
   ]
  }
 ],
 "metadata": {
  "language_info": {
   "name": "python"
  }
 },
 "nbformat": 4,
 "nbformat_minor": 2
}
