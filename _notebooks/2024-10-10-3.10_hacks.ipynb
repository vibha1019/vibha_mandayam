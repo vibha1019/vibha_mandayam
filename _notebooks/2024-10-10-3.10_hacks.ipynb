{
 "cells": [
  {
   "cell_type": "code",
   "execution_count": null,
   "metadata": {
    "vscode": {
     "languageId": "plaintext"
    }
   },
   "outputs": [],
   "source": [
    "---\n",
    "layout: post\n",
    "title: 3.10 Hacks\n",
    "description: Python/Javascript Popcorn and HW hacks\n",
    "permalink: /github/pages/3_10_hacks\n",
    "type: ccc\n",
    "author: Vibha Mandayam\n",
    "---"
   ]
  },
  {
   "cell_type": "markdown",
   "metadata": {},
   "source": [
    "3.10.1 Popcorn Hack"
   ]
  },
  {
   "cell_type": "code",
   "execution_count": null,
   "metadata": {
    "vscode": {
     "languageId": "javascript"
    }
   },
   "outputs": [],
   "source": [
    "// Create an empty array\n",
    "let aList = [];\n",
    "\n",
    "// Input items into the array\n",
    "let userInput = prompt(\"Enter an item (type 'done' to finish):\");\n",
    "while (userInput.toLowerCase() !== 'done') {\n",
    "    aList.push(userInput);\n",
    "    userInput = prompt(\"Enter another item (or type 'done' to finish):\");\n",
    "}\n",
    "\n",
    "// Use a for loop to print each item in the array\n",
    "console.log(\"Items in the list:\");\n",
    "for (let i = 0; i < aList.length; i++) {\n",
    "    console.log(aList[i]);\n",
    "}\n"
   ]
  },
  {
   "cell_type": "markdown",
   "metadata": {},
   "source": [
    "3.10.2 Popcorn Hacks"
   ]
  },
  {
   "cell_type": "code",
   "execution_count": null,
   "metadata": {
    "vscode": {
     "languageId": "javascript"
    }
   },
   "outputs": [],
   "source": [
    "// Create an array with some items\n",
    "let aList = [\"apple\", \"banana\", \"cherry\", \"date\"];\n",
    "\n",
    "// Display the second element (if it exists)\n",
    "if (aList.length >= 2) {\n",
    "    console.log(\"Second element:\", aList[1]);\n",
    "} else {\n",
    "    console.log(\"The list has fewer than 2 items.\");\n",
    "}\n",
    "\n",
    "// Delete the second element (if it exists)\n",
    "if (aList.length >= 2) {\n",
    "    aList.splice(1, 1);  // Removes the second element\n",
    "}\n",
    "\n",
    "// Display the updated list\n",
    "console.log(\"Updated list:\", aList);\n"
   ]
  },
  {
   "cell_type": "markdown",
   "metadata": {
    "vscode": {
     "languageId": "javascript"
    }
   },
   "source": [
    "3.10.3 Popcorn Hacks"
   ]
  },
  {
   "cell_type": "code",
   "execution_count": null,
   "metadata": {},
   "outputs": [],
   "source": [
    "# Create a list of favorite foods\n",
    "favorite_foods = [\"pizza\", \"sushi\", \"ice cream\", \"pasta\", \"tacos\"]\n",
    "\n",
    "# Add two more items to the list\n",
    "favorite_foods.append(\"burgers\")\n",
    "favorite_foods.append(\"salad\")\n",
    "\n",
    "# Print the list\n",
    "print(\"Favorite foods:\", favorite_foods)\n",
    "\n",
    "# Find and print the total number of items in the list\n",
    "print(\"Total number of items:\", len(favorite_foods))\n"
   ]
  },
  {
   "cell_type": "markdown",
   "metadata": {},
   "source": [
    "3.10.4 Popcorn Hacks"
   ]
  },
  {
   "cell_type": "code",
   "execution_count": null,
   "metadata": {},
   "outputs": [],
   "source": [
    "# Define the list of integers\n",
    "nums = [1, 2, 3, 4, 5, 6, 7, 8, 9, 10]\n",
    "\n",
    "# Define a variable to store the sum of even numbers\n",
    "even_sum = 0\n",
    "\n",
    "# Iterate through the list and add even numbers to the sum\n",
    "for num in nums:\n",
    "    if num % 2 == 0:  # Check if the number is even\n",
    "        even_sum += num\n",
    "\n",
    "# Print the sum of all even numbers\n",
    "print(\"Sum of even numbers:\", even_sum)\n"
   ]
  },
  {
   "cell_type": "markdown",
   "metadata": {},
   "source": [
    "3.10.4 Popcorn Hack"
   ]
  },
  {
   "cell_type": "code",
   "execution_count": null,
   "metadata": {},
   "outputs": [],
   "source": [
    "# Define the list of fruits\n",
    "fruits = [\"apple\", \"banana\", \"cherry\", \"date\"]\n",
    "\n",
    "# Check if \"banana\" is in the list\n",
    "if \"banana\" in fruits:\n",
    "    print(\"Banana is in the list.\")\n",
    "else:\n",
    "    print(\"Banana is not in the list.\")\n"
   ]
  },
  {
   "cell_type": "markdown",
   "metadata": {},
   "source": [
    "3.10 Homework Hacks"
   ]
  },
  {
   "cell_type": "code",
   "execution_count": null,
   "metadata": {},
   "outputs": [],
   "source": [
    "# Create a list of numbers\n",
    "numbers = [10, 20, 30, 40, 50]\n",
    "\n",
    "# Print the second element in the list\n",
    "print(\"The second element in the list is:\", numbers[1])\n"
   ]
  },
  {
   "cell_type": "code",
   "execution_count": null,
   "metadata": {
    "vscode": {
     "languageId": "javascript"
    }
   },
   "outputs": [],
   "source": [
    "// Create an array of numbers\n",
    "let numbers = [10, 20, 30, 40, 50];\n",
    "\n",
    "// Log the second element in the array to the console\n",
    "console.log(\"The second element in the array is:\", numbers[1]);\n"
   ]
  },
  {
   "cell_type": "code",
   "execution_count": null,
   "metadata": {},
   "outputs": [],
   "source": [
    "def display_menu():\n",
    "    print(\"\\nTo-Do List Menu:\")\n",
    "    print(\"1. Add an item\")\n",
    "    print(\"2. Remove an item\")\n",
    "    print(\"3. View items\")\n",
    "    print(\"4. Quit\")\n",
    "\n",
    "# Initialize the to-do list\n",
    "todo_list = []\n",
    "\n",
    "while True:\n",
    "    display_menu()\n",
    "    \n",
    "    choice = input(\"Choose an option (1-4): \")\n",
    "    \n",
    "    if choice == '1':  # Add an item\n",
    "        item = input(\"Enter the item to add: \")\n",
    "        todo_list.append(item)\n",
    "        print(f\"'{item}' has been added to the list.\")\n",
    "    \n",
    "    elif choice == '2':  # Remove an item\n",
    "        item = input(\"Enter the item to remove: \")\n",
    "        if item in todo_list:\n",
    "            todo_list.remove(item)\n",
    "            print(f\"'{item}' has been removed from the list.\")\n",
    "        else:\n",
    "            print(f\"'{item}' is not in the list.\")\n",
    "    \n",
    "    elif choice == '3':  # View items\n",
    "        if todo_list:\n",
    "            print(\"\\nYour To-Do List:\")\n",
    "            for idx, item in enumerate(todo_list, start=1):\n",
    "                print(f\"{idx}. {item}\")\n",
    "        else:\n",
    "            print(\"Your to-do list is empty.\")\n",
    "    \n",
    "    elif choice == '4':  # Quit\n",
    "        print(\"Goodbye!\")\n",
    "        break\n",
    "    \n",
    "    else:\n",
    "        print(\"Invalid option, please try again.\")\n"
   ]
  },
  {
   "cell_type": "code",
   "execution_count": null,
   "metadata": {
    "vscode": {
     "languageId": "javascript"
    }
   },
   "outputs": [],
   "source": [
    "// Initialize the workout log\n",
    "let workoutLog = [];\n",
    "\n",
    "// Function to display the menu\n",
    "function displayMenu() {\n",
    "    console.log(\"\\nWorkout Tracker Menu:\");\n",
    "    console.log(\"1. Log a workout\");\n",
    "    console.log(\"2. View logged workouts\");\n",
    "    console.log(\"3. Quit\");\n",
    "}\n",
    "\n",
    "// Function to log a workout\n",
    "function logWorkout() {\n",
    "    const type = prompt(\"Enter workout type (e.g., running, cycling):\");\n",
    "    const duration = prompt(\"Enter duration (in minutes):\");\n",
    "    const calories = prompt(\"Enter calories burned:\");\n",
    "\n",
    "    const workout = {\n",
    "        type: type,\n",
    "        duration: parseInt(duration), // Convert duration to a number\n",
    "        calories: parseInt(calories) // Convert calories to a number\n",
    "    };\n",
    "\n",
    "    workoutLog.push(workout);\n",
    "    console.log(`Workout logged: ${type}, Duration: ${duration} mins, Calories burned: ${calories}`);\n",
    "}\n",
    "\n",
    "// Function to view logged workouts\n",
    "function viewWorkouts() {\n",
    "    if (workoutLog.length === 0) {\n",
    "        console.log(\"No workouts logged yet.\");\n",
    "        return;\n",
    "    }\n",
    "\n",
    "    console.log(\"\\nLogged Workouts:\");\n",
    "    workoutLog.forEach((workout, index) => {\n",
    "        console.log(`${index + 1}. Type: ${workout.type}, Duration: ${workout.duration} mins, Calories burned: ${workout.calories}`);\n",
    "    });\n",
    "}\n",
    "\n",
    "// Main program loop\n",
    "while (true) {\n",
    "    displayMenu();\n",
    "    const choice = prompt(\"Choose an option (1-3):\");\n",
    "\n",
    "    if (choice === '1') {\n",
    "        logWorkout();\n",
    "    } else if (choice === '2') {\n",
    "        viewWorkouts();\n",
    "    } else if (choice === '3') {\n",
    "        console.log(\"Goodbye!\");\n",
    "        break;\n",
    "    } else {\n",
    "        console.log(\"Invalid option, please try again.\");\n",
    "    }\n",
    "}\n"
   ]
  }
 ],
 "metadata": {
  "language_info": {
   "name": "python"
  }
 },
 "nbformat": 4,
 "nbformat_minor": 2
}
