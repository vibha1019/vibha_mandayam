{
 "cells": [
  {
   "cell_type": "markdown",
   "metadata": {},
   "source": [
    "--- \n",
    "layout: post\n",
    "title: Colors/Base 64\n",
    "permalink: /colors\n",
    "comments: true\n",
    "---"
   ]
  },
  {
   "cell_type": "markdown",
   "metadata": {
    "vscode": {
     "languageId": "plaintext"
    }
   },
   "source": [
    "# Exercise 1: Color Conversions\n",
    "\n",
    "## Hex to RGB & RGBA\n",
    "1. `#1E90FF`\n",
    "   - RGB: `rgb(30, 144, 255)`\n",
    "   - RGBA: `rgba(30, 144, 255, 1)`\n",
    "\n",
    "2. `#32CD32`\n",
    "   - RGB: `rgb(50, 205, 50)`\n",
    "   - RGBA: `rgba(50, 205, 50, 1)`\n",
    "\n",
    "3. `#FFD700`\n",
    "   - RGB: `rgb(255, 215, 0)`\n",
    "   - RGBA: `rgba(255, 215, 0, 1)`\n",
    "\n",
    "## 50%-transparent Teal\n",
    "- `rgba(0, 128, 128, 0.5)`\n",
    "\n",
    "# Exercise 2: Icon Design\n",
    "\n",
    "## 2×2 Icon Colors\n",
    "1. Red: `#FF0000`\n",
    "2. Green: `#00FF00`\n",
    "3. Blue: `#0000FF`\n",
    "4. Yellow: `#FFFF00`\n",
    "\n",
    "## Storage Calculation\n",
    "- Bits per pixel: 24 bits\n",
    "- Number of pixels: 4 (2×2)\n",
    "- Total bits: 24 × 4 = **96 bits** (or 12 bytes)\n",
    "\n",
    "# Exercise 3: Base64 Encoding\n",
    "\n",
    "## String \"Cat\" in Base64\n",
    "`Q2F0`\n",
    "\n",
    "## 1×1 Red PNG in Base64\n",
    "```html\n",
    "<img src=\"data:image/png;base64,iVBORw0KGgoAAAANSUhEUgAAAAEAAAABCAYAAAAfFcSJAAAADUlEQVR42mP8z/C/HgAGgwJ/lK3Q6wAAAABJRU5ErkJggg==\" alt=\"1x1 red pixel\">"
   ]
  }
 ],
 "metadata": {
  "language_info": {
   "name": "python"
  }
 },
 "nbformat": 4,
 "nbformat_minor": 2
}
