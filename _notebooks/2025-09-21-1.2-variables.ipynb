{
 "cells": [
  {
   "cell_type": "raw",
   "id": "462043ad",
   "metadata": {
    "vscode": {
     "languageId": "raw"
    }
   },
   "source": [
    "---\n",
    "title: Variables and Data Types\n",
    "comments: true\n",
    "layout: post\n",
    "permalink: /csa/unit_01/1_2/homework/\n",
    "description: Variables and Data Types\n",
    "author: Shriya, Nikhil, Adi\n",
    "---\n"
   ]
  },
  {
   "cell_type": "markdown",
   "id": "28ef4843",
   "metadata": {},
   "source": [
    "# AP CSA Lesson 1.2 – Variables and Data Types\n",
    "\n",
    "---\n",
    "\n",
    "##  Learning Objectives\n",
    "- Understand what variables are and how they store data in memory.\n",
    "- Learn the main primitive data types in Java (`int`, `double`, `boolean`, `char`).\n",
    "- Differentiate between **primitive types** and **reference types** (like `String`).\n",
    "- Practice declaring, assigning, and using variables.\n",
    "- Gain hands-on experience with code demos, popcorn hacks, and homework challenges.\n",
    "\n",
    "---\n",
    "\n",
    "##  Key Vocabulary\n",
    "| Term | Definition | Example |\n",
    "|------|------------|---------|\n",
    "| **Variable** | Named storage location in memory for data. | `int age = 16;` |\n",
    "| **Declaration** | Creating a variable with a type. | `double price;` |\n",
    "| **Initialization** | Giving the variable a value at creation. | `double price = 4.99;` |\n",
    "| **Assignment** | Giving a value later (after declaration). | `price = 5.99;` |\n",
    "| **Primitive type** | Basic data types built into Java. | `int, double, boolean, char` |\n",
    "| **Reference type** | Points to objects (more complex). | `String, Scanner` |\n",
    "\n",
    " - **Primitive types** don't have methods\n",
    " - **Reference types** are objects and have methods associated with them\n",
    "\n",
    "---\n",
    "\n",
    "##  Concept Overview\n",
    "\n",
    "### What is a Variable?\n",
    "Think of a variable as a **labeled container** that stores data."
   ]
  },
  {
   "cell_type": "markdown",
   "id": "eefafb5c",
   "metadata": {},
   "source": [
    "\n",
    "- You can store **numbers, text, or true/false values**.\n",
    "- Java requires you to **specify the type** (what kind of data goes in the box).\n",
    "\n",
    "---\n",
    "\n",
    "### Java Data Types (AP CSA Focus)\n",
    "\n",
    "| Type      | Meaning | Example | Notes |\n",
    "|-----------|---------|---------|-------|\n",
    "| `int`     | Whole numbers | `int year = 2025;` | Range: about -2 billion → 2 billion |\n",
    "| `double`  | Decimal numbers | `double price = 4.99;` | More precise than `float` |\n",
    "| `boolean` | True/False | `boolean done = false;` | Used for conditions |\n",
    "| `char`    | Single character | `char grade = 'A';` | Always single quotes |\n",
    "| `String`  | Text (sequence of chars) | `String name = \"Paul\";` | Not primitive (it’s a class) |\n",
    "\n",
    "---\n",
    "\n",
    "### Declaration vs Initialization vs Assignment\n",
    "```java\n",
    "int number;           // declaration (creates variable)\n",
    "number = 10;          // assignment (stores 10 later)\n",
    "int age = 16;         // initialization (declaration + assignment)\n",
    "\n",
    "```"
   ]
  },
  {
   "cell_type": "code",
   "execution_count": 1,
   "id": "4f3bdc16",
   "metadata": {
    "vscode": {
     "languageId": "java"
    }
   },
   "outputs": [],
   "source": [
    "public class VariableBasics {\n",
    "    public static void main(String[] args) {\n",
    "        // Step 1: Declare variables (create empty boxes)\n",
    "        int age;\n",
    "        double price;\n",
    "        \n",
    "        // Step 2: Put values in the boxes\n",
    "        age = 16;\n",
    "        price = 4.99;\n",
    "        \n",
    "        // Step 3: Create and fill boxes at the same time\n",
    "        String name = \"Alex\";\n",
    "        boolean isStudent = true;\n",
    "        \n",
    "        // Print the values\n",
    "        System.out.println(\"Name: \" + name);\n",
    "        System.out.println(\"Age: \" + age);\n",
    "        System.out.println(\"Price: $\" + price);\n",
    "        System.out.println(\"Is student: \" + isStudent);\n",
    "    }\n",
    "}"
   ]
  },
  {
   "cell_type": "markdown",
   "id": "3b7362b4",
   "metadata": {},
   "source": [
    "---\n",
    "\n",
    "## Final Variables (They Never Change!)\n",
    "\n",
    "Sometimes you want a variable that **never changes**. Use the word `final`.\n",
    "\n",
    "### Rules:\n",
    "- Use `final` at the beginning\n",
    "- Give it a value"
   ]
  },
  {
   "cell_type": "code",
   "execution_count": 2,
   "id": "43b61e7e",
   "metadata": {
    "vscode": {
     "languageId": "java"
    }
   },
   "outputs": [
    {
     "ename": "CompilationException",
     "evalue": "",
     "output_type": "error",
     "traceback": [
      "\u001b[1m\u001b[30m|   \u001b[1m\u001b[30m        \u001b[0m\u001b[1m\u001b[30m\u001b[41mMAX_STUDENTS\u001b[0m\u001b[1m\u001b[30m = 25; // ERROR! Can't change final variables\u001b[0m",
      "\u001b[1m\u001b[31mcannot assign a value to final variable MAX_STUDENTS\u001b[0m",
      ""
     ]
    }
   ],
   "source": [
    "// Final Variables - Values That Never Change\n",
    "public class FinalVariables {\n",
    "    public static void main(String[] args) {\n",
    "        // These values will NEVER change\n",
    "        final int MAX_STUDENTS = 30;\n",
    "        final double TAX_RATE = 0.08;\n",
    "        final String SCHOOL = \"My High School\";\n",
    "        \n",
    "        System.out.println(\"Maximum students: \" + MAX_STUDENTS);\n",
    "        System.out.println(\"Tax rate: \" + TAX_RATE);\n",
    "        System.out.println(\"School: \" + SCHOOL);\n",
    "        \n",
    "        MAX_STUDENTS = 25; // ERROR! Can't change final variables\n",
    "    }\n",
    "}\n"
   ]
  },
  {
   "cell_type": "markdown",
   "id": "26915672",
   "metadata": {},
   "source": [
    "---\n",
    "\n",
    "## How to Pick the Right Type\n",
    "\n",
    "It's like choosing the right size box for different things:\n",
    "\n",
    "### For Numbers:\n",
    "- **Whole numbers** (1, 2, 100) → use `int`\n",
    "- **Decimal numbers** (1.5, 3.14) → use `double`\n",
    "\n",
    "### For Words and Letters:\n",
    "- **One letter** ('A', 'B') → use `char`\n",
    "- **Words or sentences** → use `String`\n",
    "\n",
    "### For Yes/No Questions:\n",
    "- **True or False** → use `boolean`"
   ]
  },
  {
   "cell_type": "code",
   "execution_count": 3,
   "id": "83ec952e",
   "metadata": {
    "vscode": {
     "languageId": "java"
    }
   },
   "outputs": [],
   "source": [
    "public class DataTypeExamples {\n",
    "    public static void main(String[] args) {\n",
    "        // Student info - pick the best type for each\n",
    "        String studentName = \"Sarah\";        // Words → String\n",
    "        int grade = 10;                     // Whole number → int\n",
    "        double gpa = 3.8;                   // Decimal → double\n",
    "        char team = 'A';                    // One letter → char\n",
    "        boolean hasPhone = true;            // Yes/No → boolean\n",
    "        \n",
    "        // More examples\n",
    "        int numberOfPets = 2;               // Counting → int\n",
    "        double temperature = 72.5;          // Decimal → double\n",
    "        boolean isRaining = false;          // True/False → boolean\n",
    "        \n",
    "        System.out.println(studentName + \" is in grade \" + grade);\n",
    "        System.out.println(\"GPA: \" + gpa + \", Team: \" + team);\n",
    "        System.out.println(\"Has phone: \" + hasPhone);\n",
    "        System.out.println(\"Pets: \" + numberOfPets);\n",
    "        System.out.println(\"Temperature: \" + temperature + \"°F\");\n",
    "    }\n",
    "}\n",
    "\n"
   ]
  },
  {
   "cell_type": "markdown",
   "id": "6b649527",
   "metadata": {},
   "source": [
    "---\n",
    "\n",
    "## Two Types of Variables\n",
    "\n",
    "### Primitive Types (Simple boxes):\n",
    "- Store the actual value\n",
    "- Basic types: `int`, `double`, `boolean`, `char`\n",
    "- Can't be `null` (empty)\n",
    "\n",
    "### Reference Types (Fancy boxes):\n",
    "- Point to more complex things\n",
    "- Examples: `String`\n",
    "- Can be `null` (by default)\n",
    "- Have special actions (methods) you can use"
   ]
  },
  {
   "cell_type": "code",
   "execution_count": 4,
   "id": "8661385d",
   "metadata": {
    "vscode": {
     "languageId": "java"
    }
   },
   "outputs": [],
   "source": [
    "// Simple vs Fancy Variable Types\n",
    "public class TypeComparison {\n",
    "    public static void main(String[] args) {\n",
    "        // Simple types (primitives) - store the actual value\n",
    "        int number1 = 5;\n",
    "        int number2 = 5;\n",
    "        System.out.println(\"Same number? \" + (number1 == number2)); // true\n",
    "        \n",
    "        // Fancy types (reference) - more complex\n",
    "        String word1 = \"Hello\";\n",
    "        String word2 = \"Hello\";\n",
    "        System.out.println(\"Same word? \" + word1.equals(word2)); // true\n",
    "        \n",
    "        // String can be empty (null), but int cannot\n",
    "        String emptyText = null;\n",
    "        System.out.println(\"Empty text: \" + emptyText);\n",
    "        \n",
    "        // This would cause an error:\n",
    "        // int emptyNumber = null; // NOT ALLOWED!\n",
    "    }\n",
    "}\n"
   ]
  },
  {
   "cell_type": "markdown",
   "id": "cc36ac7b",
   "metadata": {},
   "source": [
    "---\n",
    "\n",
    "## 🍿 [Popcorn Hack] Practice #1: Your Favorite Things\n",
    "\n",
    "**Make variables for your favorite things:**\n",
    "\n",
    "1. Your favorite food (text)\n",
    "2. Your age (whole number)\n",
    "3. Your height in feet (decimal)\n",
    "4. Do you like pizza? (True/False)\n",
    "5. First letter of your favorite color\n",
    "6. Your birth year (this never changes... what type of variable will you make it??)\n",
    "\n",
    "Answer is below:"
   ]
  },
  {
   "cell_type": "code",
   "execution_count": 6,
   "id": "cc9ff26e",
   "metadata": {
    "vscode": {
     "languageId": "java"
    }
   },
   "outputs": [],
   "source": [
    "public class MyFavoriteThings {\n",
    "    public static void main(String[] args) {\n",
    "        // Try writing your own code here first!\n",
    "        \n",
    "        // Sample answer:\n",
    "        String favoriteFood = \"Pasta\";\n",
    "        int myAge = 16;\n",
    "        double heightInFeet = 5.67;\n",
    "        boolean likesPizza = true;\n",
    "        char colorFirstLetter = 'P';  // Purple\n",
    "        final int BIRTH_YEAR = 2008;  \n",
    "        \n",
    "        System.out.println(\"Favorite food: \" + favoriteFood);\n",
    "        System.out.println(\"Age: \" + myAge);\n",
    "        System.out.println(\"Height: \" + heightInFeet + \" feet\");\n",
    "        System.out.println(\"Likes pizza: \" + likesPizza);\n",
    "        System.out.println(\"Favorite color starts with: \" + colorFirstLetter);\n",
    "        System.out.println(\"Born in: \" + BIRTH_YEAR);\n",
    "    }\n",
    "}\n"
   ]
  },
  {
   "cell_type": "markdown",
   "id": "6d6f87d8",
   "metadata": {},
   "source": [
    "---\n",
    "\n",
    "## 🍿 [Popcorn Hack] Practice #2: Pick the Best Type\n",
    "\n",
    "**What type should you use for each of these?**\n",
    "\n",
    "1. Number of siblings\n",
    "2. Your first name\n",
    "3. Are you hungry?\n",
    "4. Your favorite letter\n",
    "5. Your height in inches\n",
    "6. Number of days in a year (never changes)\n",
    "\n",
    "**Think about it, then check below!**"
   ]
  },
  {
   "cell_type": "markdown",
   "id": "4e608306",
   "metadata": {},
   "source": [
    "```java\n",
    "// Practice #2 - What type for each?\n",
    "public class PickTheType {\n",
    "    public static void main(String[] args) {\n",
    "        // 1. Number of siblings → int (counting, whole number)\n",
    "        int siblings = 2;\n",
    "        \n",
    "        // 2. Your first name → String (text/words)\n",
    "        String firstName = \"Alex\";\n",
    "        \n",
    "        // 3. Are you hungry? → boolean (yes/no, true/false)\n",
    "        boolean isHungry = true;\n",
    "        \n",
    "        // 4. Your favorite letter → char (single letter)\n",
    "        char favoriteLetter = 'A';\n",
    "        \n",
    "        // 5. Your height in inches → double (might be decimal like 65.5)\n",
    "        // (Can also be int if your height is a whole number)\n",
    "        double heightInches = 65.5;\n",
    "        \n",
    "        // 6. Days in a year → final int (never changes, whole number)\n",
    "        final int DAYS_IN_YEAR = 365;\n",
    "        \n",
    "        System.out.println(\"Siblings: \" + siblings);\n",
    "        System.out.println(\"Name: \" + firstName);\n",
    "        System.out.println(\"Hungry: \" + isHungry);\n",
    "        System.out.println(\"Favorite letter: \" + favoriteLetter);\n",
    "        System.out.println(\"Height: \" + heightInches + \" inches\");\n",
    "        System.out.println(\"Days per year: \" + DAYS_IN_YEAR);\n",
    "    }\n",
    "}\n",
    "```"
   ]
  },
  {
   "cell_type": "markdown",
   "id": "d3f8abab",
   "metadata": {},
   "source": [
    "---\n",
    "\n",
    "## 🏠 Homework Hack: Simple Grade Calculator\n",
    "\n",
    "**Make a program that calculates a student's grade:**\n",
    "\n",
    "### What you need to store:\n",
    "1. Student's name (make this final)\n",
    "2. Three test scores (whole numbers 0-100)\n",
    "4. The class name (make this final)\n",
    "\n",
    "### What to calculate:\n",
    "- Average of the three test scores\n",
    "- Show what letter grade they earned"
   ]
  },
  {
   "cell_type": "code",
   "execution_count": 8,
   "id": "d3a49838",
   "metadata": {
    "vscode": {
     "languageId": "java"
    }
   },
   "outputs": [],
   "source": [
    "public class GradeCalculator {\n",
    "    public static void main(String[] args) {\n",
    "        // final variables for student's name and class name\n",
    "        final String STUDENT_NAME = \"Vibha\";\n",
    "        final String CLASS_NAME = \"AP Computer Science Principles\";\n",
    "\n",
    "        // three test scores (whole numbers 0-100)\n",
    "        int test1 = 92;\n",
    "        int test2 = 85;\n",
    "        int test3 = 78;\n",
    "\n",
    "        // calculate average\n",
    "        double average = (test1 + test2 + test3) / 3.0;\n",
    "\n",
    "        // determine letter grade\n",
    "        char grade;\n",
    "        if (average >= 90) {\n",
    "            grade = 'A';\n",
    "        } else if (average >= 80) {\n",
    "            grade = 'B';\n",
    "        } else if (average >= 70) {\n",
    "            grade = 'C';\n",
    "        } else if (average >= 60) {\n",
    "            grade = 'D';\n",
    "        } else {\n",
    "            grade = 'F';\n",
    "        }\n",
    "\n",
    "        // output results\n",
    "        System.out.println(\"Student: \" + STUDENT_NAME);\n",
    "        System.out.println(\"Class: \" + CLASS_NAME);\n",
    "        System.out.println(\"Test Scores: \" + test1 + \", \" + test2 + \", \" + test3);\n",
    "        System.out.printf(\"Average Score: %.2f\\n\", average);\n",
    "        System.out.println(\"Final Grade: \" + grade);\n",
    "    }\n",
    "}\n"
   ]
  },
  {
   "cell_type": "markdown",
   "id": "0c847da7",
   "metadata": {},
   "source": [
    "---\n",
    "\n",
    "## Summary\n",
    "\n",
    "### Making Variables:\n",
    "```java\n",
    "int age = 16;           // Whole number\n",
    "double price = 4.99;    // Decimal number  \n",
    "boolean isReady = true; // True or false\n",
    "char grade = 'A';       // One letter\n",
    "String name = \"Alex\";   // Words/text\n",
    "```\n",
    "\n",
    "### Final Variables (Never Change):\n",
    "```java\n",
    "final int MAX_SCORE = 100;\n",
    "final String SCHOOL = \"My School\";\n",
    "```\n",
    "\n",
    "### Picking Types:\n",
    "- **Counting things** → `int`\n",
    "- **Money, measurements** → `double`\n",
    "- **Yes/No questions** → `boolean`\n",
    "- **One letter** → `char`\n",
    "- **Names, sentences** → `String`\n",
    "\n",
    "### Remember:\n",
    "- Use good names for your variables (`age` not `a`)\n",
    "- Final variables use ALL_CAPS\n",
    "- Strings need double quotes: `\"hello\"`\n",
    "- Chars need single quotes: `'A'`\n",
    "\n",
    "**🎯 Now you know how to store information in Java! Complete the HW to test your skills.**"
   ]
  },
  {
   "cell_type": "markdown",
   "id": "33476191",
   "metadata": {},
   "source": [
    "Submission form: https://forms.gle/EJaB8hb5kRYhrYd79"
   ]
  }
 ],
 "metadata": {
  "kernelspec": {
   "display_name": "Java",
   "language": "java",
   "name": "java"
  },
  "language_info": {
   "codemirror_mode": "java",
   "file_extension": ".jshell",
   "mimetype": "text/x-java-source",
   "name": "Java",
   "pygments_lexer": "java",
   "version": "17.0.16+0"
  }
 },
 "nbformat": 4,
 "nbformat_minor": 5
}
