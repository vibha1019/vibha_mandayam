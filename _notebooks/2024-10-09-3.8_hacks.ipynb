{
 "cells": [
  {
   "cell_type": "raw",
   "metadata": {
    "vscode": {
     "languageId": "raw"
    }
   },
   "source": [
    "---\n",
    "layout: post\n",
    "title: 3.8 Hacks\n",
    "description: Python/Javascript Popcorn and HW hacks\n",
    "permalink: /github/pages/3_8_hacks\n",
    "type: ccc\n",
    "author: Vibha Mandayam\n",
    "---"
   ]
  },
  {
   "cell_type": "code",
   "execution_count": null,
   "metadata": {},
   "outputs": [],
   "source": [
    "count = 0\n",
    "while count < 5:\n",
    "    print(\"hello\")\n",
    "    count += 1\n"
   ]
  },
  {
   "cell_type": "code",
   "execution_count": 2,
   "metadata": {},
   "outputs": [
    {
     "name": "stdout",
     "output_type": "stream",
     "text": [
      "Vibha\n",
      "Jayanth\n",
      "Jayanth\n",
      "Mandayam\n",
      "Mandayam\n",
      "Mandayam\n",
      "Vibha\n",
      "Jayanth\n",
      "Jayanth\n",
      "Mandayam\n",
      "Mandayam\n",
      "Mandayam\n",
      "Vibha\n",
      "Jayanth\n",
      "Jayanth\n",
      "Mandayam\n",
      "Mandayam\n",
      "Mandayam\n",
      "Vibha\n",
      "Jayanth\n",
      "Jayanth\n",
      "Mandayam\n",
      "Mandayam\n",
      "Mandayam\n"
     ]
    }
   ],
   "source": [
    "repeat_count = 0\n",
    "\n",
    "while repeat_count < 4:\n",
    "    # Print first name one time\n",
    "    print(\"Vibha\")\n",
    "    \n",
    "    # Print middle name two times\n",
    "    middle_count = 0\n",
    "    while middle_count < 2:\n",
    "        print(\"Jayanth\")\n",
    "        middle_count += 1\n",
    "\n",
    "    # Print last name three times\n",
    "    last_count = 0\n",
    "    while last_count < 3:\n",
    "        print(\"Mandayam\")\n",
    "        last_count += 1\n",
    "\n",
    "    # Increment repeat count\n",
    "    repeat_count += 1\n"
   ]
  },
  {
   "cell_type": "code",
   "execution_count": 3,
   "metadata": {},
   "outputs": [
    {
     "name": "stdout",
     "output_type": "stream",
     "text": [
      "V\n",
      "i\n",
      "b\n",
      "h\n",
      "a\n"
     ]
    }
   ],
   "source": [
    "name = \"Vibha\"\n",
    "for letter in name:\n",
    "    print(letter)\n"
   ]
  },
  {
   "cell_type": "code",
   "execution_count": 1,
   "metadata": {},
   "outputs": [
    {
     "name": "stdout",
     "output_type": "stream",
     "text": [
      "The key is 'first_name' and the value is 'Vibha'. Hello!\n",
      "The key is 'middle_name' and the value is 'Jayanth'. Hello!\n",
      "The key is 'last_name' and the value is 'Mandayam'. Hello!\n",
      "The key is 'age' and the value is '15'. Hello!\n",
      "The key is 'city' and the value is 'San Diego'. Hello!\n"
     ]
    }
   ],
   "source": [
    "# Sample dictionary\n",
    "person = {\n",
    "    \"first_name\": \"Vibha\",\n",
    "    \"middle_name\": \"Jayanth\",\n",
    "    \"last_name\": \"Mandayam\",\n",
    "    \"age\": 15,\n",
    "    \"city\": \"San Diego\"\n",
    "}\n",
    "\n",
    "# Loop through each key and value\n",
    "for key, value in person.items():\n",
    "    print(f\"The key is '{key}' and the value is '{value}'. Hello!\")\n"
   ]
  },
  {
   "cell_type": "code",
   "execution_count": 5,
   "metadata": {},
   "outputs": [
    {
     "name": "stdout",
     "output_type": "stream",
     "text": [
      "Incorrect password. Please try again.\n",
      "The password is correct!\n"
     ]
    }
   ],
   "source": [
    "# Define the correct password\n",
    "correct_password = \"codingiscool\"\n",
    "\n",
    "# Initialize a variable to control the while loop\n",
    "is_correct = False\n",
    "\n",
    "# While loop to ask for the password until the correct one is provided\n",
    "while not is_correct:\n",
    "    # Ask the user for the password\n",
    "    user_input = input(\"Please enter your password: \")\n",
    "    \n",
    "    # Check if the password is correct\n",
    "    if user_input == correct_password:\n",
    "        print(\"The password is correct!\")\n",
    "        is_correct = True  # Set condition to true to exit the loop\n",
    "    else:\n",
    "        print(\"Incorrect password. Please try again.\")\n"
   ]
  },
  {
   "cell_type": "code",
   "execution_count": 2,
   "metadata": {},
   "outputs": [
    {
     "name": "stdout",
     "output_type": "stream",
     "text": [
      "v\n",
      "i\n",
      "b\n",
      "h\n",
      "a\n"
     ]
    }
   ],
   "source": [
    "# Ask the user for their name\n",
    "user_name = input(\"Please enter your name: \")\n",
    "\n",
    "# Iterate through the name and print each letter\n",
    "for letter in user_name:\n",
    "    print(letter)\n"
   ]
  },
  {
   "cell_type": "code",
   "execution_count": 3,
   "metadata": {},
   "outputs": [
    {
     "name": "stdout",
     "output_type": "stream",
     "text": [
      "Apple\n",
      "Banana\n",
      "Cherry\n",
      "Date\n",
      "Elderberry\n",
      "Fig\n",
      "Grape\n"
     ]
    }
   ],
   "source": [
    "# List of fruits\n",
    "fruits = [\"Apple\", \"Banana\", \"Cherry\", \"Date\", \"Elderberry\", \"Fig\", \"Grape\"]\n",
    "\n",
    "# Iterate through the list of fruits and print each one\n",
    "for fruit in fruits:\n",
    "    print(fruit)\n"
   ]
  }
 ],
 "metadata": {
  "kernelspec": {
   "display_name": "Python 3",
   "language": "python",
   "name": "python3"
  },
  "language_info": {
   "codemirror_mode": {
    "name": "ipython",
    "version": 3
   },
   "file_extension": ".py",
   "mimetype": "text/x-python",
   "name": "python",
   "nbconvert_exporter": "python",
   "pygments_lexer": "ipython3",
   "version": "3.10.2"
  }
 },
 "nbformat": 4,
 "nbformat_minor": 2
}
