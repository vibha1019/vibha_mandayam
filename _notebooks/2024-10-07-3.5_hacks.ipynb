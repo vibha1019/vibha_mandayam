{
 "cells": [
  {
   "cell_type": "markdown",
   "metadata": {},
   "source": [
    "---\n",
    "layout: post\n",
    "title: 3.5 Hacks\n",
    "description: Python/Javascript Popcorn and HW hacks\n",
    "permalink: /github/pages/3_5_hacks\n",
    "type: ccc\n",
    "author: Vibha Mandayam\n",
    "---"
   ]
  },
  {
   "cell_type": "markdown",
   "metadata": {
    "vscode": {
     "languageId": "plaintext"
    }
   },
   "source": [
    "3.5.3 Popcorn Hacks"
   ]
  },
  {
   "cell_type": "code",
   "execution_count": null,
   "metadata": {},
   "outputs": [],
   "source": [
    "def findVowel(char):\n",
    "\tif char.lower() in \"aeiou\":\n",
    "\t\tprint(\"the character is a vowel\")\n",
    "\telse:\n",
    "\t\tprint(\"not a vowel\")\n",
    "\n",
    "letter = str(input())\n",
    "findVowel(letter)"
   ]
  },
  {
   "cell_type": "markdown",
   "metadata": {},
   "source": [
    "3.5.4 Popcorn Hacks"
   ]
  },
  {
   "cell_type": "code",
   "execution_count": null,
   "metadata": {
    "vscode": {
     "languageId": "javascript"
    }
   },
   "outputs": [],
   "source": [
    "function isEvenOrOdd(number) {\n",
    "\tif (number % 2 === 0) {\n",
    "\t  return \"The number is even.\";\n",
    "\t} else {\n",
    "\t  return \"The number is odd.\";\n",
    "\t}\n",
    "  }\n",
    "  "
   ]
  },
  {
   "cell_type": "markdown",
   "metadata": {},
   "source": [
    "3.5.3 Homework Hacks"
   ]
  },
  {
   "cell_type": "code",
   "execution_count": 1,
   "metadata": {},
   "outputs": [
    {
     "name": "stdout",
     "output_type": "stream",
     "text": [
      " A   |  B   |  C   | A AND (B OR NOT C)\n",
      "----------------------------------------\n",
      "    1 |     1 |     1 | True\n",
      "    1 |     1 |     0 | True\n",
      "    1 |     0 |     1 | False\n",
      "    1 |     0 |     0 | True\n",
      "    0 |     1 |     1 | False\n",
      "    0 |     1 |     0 | False\n",
      "    0 |     0 |     1 | False\n",
      "    0 |     0 |     0 | False\n"
     ]
    }
   ],
   "source": [
    "from itertools import product\n",
    "\n",
    "def truth_table():\n",
    "    print(\" A   |  B   |  C   | A AND (B OR NOT C)\")\n",
    "    print(\"----------------------------------------\")\n",
    "\n",
    "    for A, B, C in product([True, False], repeat=3):\n",
    "        result = A and (B or not C)\n",
    "        print(f\"{A:5} | {B:5} | {C:5} | {result}\")\n",
    "\n",
    "truth_table()\n"
   ]
  },
  {
   "cell_type": "code",
   "execution_count": null,
   "metadata": {},
   "outputs": [],
   "source": [
    "import random\n",
    "\n",
    "def de_morgan_game():\n",
    "    expressions = [\n",
    "        (\"Not (A and B)\", \"Not A or Not B\"),\n",
    "        (\"Not (A or B)\", \"Not A and Not B\"),\n",
    "        (\"Not (A and B and C)\", \"Not A or Not B or Not C\"),\n",
    "        (\"Not (A or B or C)\", \"Not A and Not B and Not C\"),\n",
    "    ]\n",
    "\n",
    "    score = 0\n",
    "    rounds = 5\n",
    "\n",
    "    print(\"Welcome to the De Morgan's Law Game!\")\n",
    "    print(\"You will see a logical expression and its De Morgan's Law simplification.\")\n",
    "    print(\"Respond with 'yes' if they are equivalent and 'no' if they are not.\\n\")\n",
    "\n",
    "    for _ in range(rounds):\n",
    "        original, simplified = random.choice(expressions)\n",
    "        print(f\"Original: {original}\")\n",
    "        print(f\"Simplified: {simplified}\")\n",
    "        \n",
    "        user_input = input(\"Are they equivalent? (yes/no): \").strip().lower()\n",
    "        \n",
    "        correct_answer = \"yes\" if original == simplified else \"no\"\n",
    "        \n",
    "        if user_input == correct_answer:\n",
    "            print(\"Correct!\\n\")\n",
    "            score += 1\n",
    "        else:\n",
    "            print(\"Incorrect.\\n\")\n",
    "\n",
    "    print(f\"Game over! Your score: {score}/{rounds}\")\n",
    "\n",
    "de_morgan_game()\n"
   ]
  },
  {
   "cell_type": "markdown",
   "metadata": {},
   "source": [
    "3.5.4 Homework Hacks"
   ]
  },
  {
   "cell_type": "code",
   "execution_count": null,
   "metadata": {
    "vscode": {
     "languageId": "javascript"
    }
   },
   "outputs": [],
   "source": [
    "function isValidPassword(password) {\n",
    "\tconst hasUpperCase = /[A-Z]/.test(password);  // Check for at least one uppercase letter\n",
    "\tconst hasLowerCase = /[a-z]/.test(password);  // Check for at least one lowercase letter\n",
    "\tconst hasNumber = /\\d/.test(password);        // Check for at least one number\n",
    "\tconst hasSpecialChar = /[!@#$%^&*(),.?\":{}|<>]/.test(password); // Check for at least one special character\n",
    "\tconst noSpaces = !/\\s/.test(password);        // Ensure no spaces\n",
    "\tconst isLongEnough = password.length >= 10;   // Ensure password is at least 10 characters long\n",
    "\tconst noMoreThanThreeInARow = !/(.)\\1\\1/.test(password); // Ensure no more than 3 of the same letter in a row\n",
    "  \n",
    "\tif (!(hasUpperCase && hasLowerCase && hasNumber && hasSpecialChar && noSpaces && isLongEnough && noMoreThanThreeInARow)) {\n",
    "\t  return \"Invalid password. Please meet all the requirements.\";\n",
    "\t}\n",
    "  \n",
    "\treturn \"Password is valid!\";\n",
    "  }\n",
    "  \n",
    " "
   ]
  },
  {
   "cell_type": "code",
   "execution_count": null,
   "metadata": {
    "vscode": {
     "languageId": "javascript"
    }
   },
   "outputs": [],
   "source": [
    "function personalityQuiz() {\n",
    "\tlet score = 0;\n",
    "  \n",
    "\tlet answer1 = prompt(\"1. How do you usually spend your weekends?\\n(a) Socializing\\n(b) Reading\\n(c) Outdoor activities\\n(d) Working\");\n",
    "\tif (answer1 === 'a') score += 3;\n",
    "\telse if (answer1 === 'b') score += 1;\n",
    "\telse if (answer1 === 'c') score += 2;\n",
    "\telse if (answer1 === 'd') score += 4;\n",
    "  \n",
    "\tlet answer2 = prompt(\"2. What do you value most?\\n(a) Freedom\\n(b) Knowledge\\n(c) Adventure\\n(d) Stability\");\n",
    "\tif (answer2 === 'a') score += 2;\n",
    "\telse if (answer2 === 'b') score += 1;\n",
    "\telse if (answer2 === 'c') score += 3;\n",
    "\telse if (answer2 === 'd') score += 4;\n",
    "  \n",
    "\tlet answer3 = prompt(\"3. What's your favorite type of movie?\\n(a) Action\\n(b) Drama\\n(c) Comedy\\n(d) Documentary\");\n",
    "\tif (answer3 === 'a') score += 3;\n",
    "\telse if (answer3 === 'b') score += 2;\n",
    "\telse if (answer3 === 'c') score += 1;\n",
    "\telse if (answer3 === 'd') score += 4;\n",
    "  \n",
    "\tlet answer4 = prompt(\"4. What type of environment do you thrive in?\\n(a) Busy city life\\n(b) Quiet, peaceful spaces\\n(c) Wild nature\\n(d) Organized, structured places\");\n",
    "\tif (answer4 === 'a') score += 3;\n",
    "\telse if (answer4 === 'b') score += 1;\n",
    "\telse if (answer4 === 'c') score += 2;\n",
    "\telse if (answer4 === 'd') score += 4;\n",
    "  \n",
    "\tlet answer5 = prompt(\"5. How do you handle challenges?\\n(a) By planning ahead\\n(b) By improvising\\n(c) By staying calm and adapting\\n(d) By pushing through forcefully\");\n",
    "\tif (answer5 === 'a') score += 4;\n",
    "\telse if (answer5 === 'b') score += 3;\n",
    "\telse if (answer5 === 'c') score += 1;\n",
    "\telse if (answer5 === 'd') score += 2;\n",
    "  \n",
    "\tlet answer6 = prompt(\"6. What’s your ideal vacation?\\n(a) Relaxing at a resort\\n(b) Exploring historical sites\\n(c) Adventuring in the wilderness\\n(d) Trying new experiences in a foreign city\");\n",
    "\tif (answer6 === 'a') score += 1;\n",
    "\telse if (answer6 === 'b') score += 2;\n",
    "\telse if (answer6 === 'c') score += 3;\n",
    "\telse if (answer6 === 'd') score += 4;\n",
    "  \n",
    "\tlet answer7 = prompt(\"7. What best describes your work style?\\n(a) Creative and free-form\\n(b) Analytical and data-driven\\n(c) Action-oriented\\n(d) Structured and methodical\");\n",
    "\tif (answer7 === 'a') score += 2;\n",
    "\telse if (answer7 === 'b') score += 1;\n",
    "\telse if (answer7 === 'c') score += 3;\n",
    "\telse if (answer7 === 'd') score += 4;\n",
    "  \n",
    "\tlet answer8 = prompt(\"8. How do you make decisions?\\n(a) Based on logic and facts\\n(b) Based on emotions and feelings\\n(c) By trusting my gut instinct\\n(d) By seeking advice and analyzing options\");\n",
    "\tif (answer8 === 'a') score += 1;\n",
    "\telse if (answer8 === 'b') score += 2;\n",
    "\telse if (answer8 === 'c') score += 3;\n",
    "\telse if (answer8 === 'd') score += 4;\n",
    "  \n",
    "\tlet answer9 = prompt(\"9. What kind of books do you prefer?\\n(a) Fiction\\n(b) Non-fiction\\n(c) Self-help\\n(d) Adventure novels\");\n",
    "\tif (answer9 === 'a') score += 2;\n",
    "\telse if (answer9 === 'b') score += 4;\n",
    "\telse if (answer9 === 'c') score += 1;\n",
    "\telse if (answer9 === 'd') score += 3;\n",
    "  \n",
    "\tlet answer10 = prompt(\"10. What’s your biggest motivator?\\n(a) Success\\n(b) Freedom\\n(c) Stability\\n(d) Adventure\");\n",
    "\tif (answer10 === 'a') score += 4;\n",
    "\telse if (answer10 === 'b') score += 2;\n",
    "\telse if (answer10 === 'c') score += 1;\n",
    "\telse if (answer10 === 'd') score += 3;\n",
    "  \n",
    "\tif (score <= 15) {\n",
    "\t  return \"You are thoughtful, introverted, and prefer peace and quiet.\";\n",
    "\t} else if (score <= 25) {\n",
    "\t  return \"You are creative, curious, and enjoy exploring new ideas.\";\n",
    "\t} else if (score <= 35) {\n",
    "\t  return \"You are adventurous, active, and thrive in dynamic environments.\";\n",
    "\t} else {\n",
    "\t  return \"You are ambitious, driven, and seek success and stability.\";\n",
    "\t}\n",
    "  }\n",
    "  \n",
    "  "
   ]
  },
  {
   "cell_type": "markdown",
   "metadata": {},
   "source": [
    "Extra Hacks"
   ]
  },
  {
   "cell_type": "code",
   "execution_count": null,
   "metadata": {},
   "outputs": [],
   "source": [
    "def check_number(num):\n",
    "\tif num >= 0:\n",
    "\t\tprint(\"Number is nonnegative\")\n",
    "\telse:\n",
    "\t\tprint(\"number is negative\")\n",
    "\n",
    "n = int(input())\n",
    "check_number(n)"
   ]
  },
  {
   "cell_type": "code",
   "execution_count": null,
   "metadata": {
    "vscode": {
     "languageId": "javascript"
    }
   },
   "outputs": [],
   "source": [
    "function suggestOutfit(temperature) {\n",
    "\tif (temperature >= 86) {\n",
    "\t  return \"It's hot! Wear shorts and a t-shirt.\";\n",
    "\t} else if (temperature >= 68 && temperature < 86) {\n",
    "\t  return \"Nice weather! Wear jeans and a light shirt.\";\n",
    "\t} else if (temperature >= 50 && temperature < 68) {\n",
    "\t  return \"It's a bit chilly. Wear a jacket.\";\n",
    "\t} else {\n",
    "\t  return \"It's cold! Wear a coat and warm clothing.\";\n",
    "\t}\n",
    "  }\n",
    "  \n",
    "  let temp = 75;\n",
    "  console.log(suggestOutfit(temp)); \n",
    "  "
   ]
  },
  {
   "cell_type": "code",
   "execution_count": null,
   "metadata": {
    "vscode": {
     "languageId": "javascript"
    }
   },
   "outputs": [],
   "source": [
    "function findLargestAndSort(numbers) {\n",
    "\tnumbers.sort(function(a, b) {\n",
    "\t  return a - b; \n",
    "\t});\n",
    "  \n",
    "\tlet largest = numbers[numbers.length - 1];\n",
    "  \n",
    "\treturn {\n",
    "\t  largest: largest,\n",
    "\t  sortedNumbers: numbers\n",
    "\t};\n",
    "  }\n",
    "  \n",
    "  "
   ]
  }
 ],
 "metadata": {
  "kernelspec": {
   "display_name": "Python 3",
   "language": "python",
   "name": "python3"
  },
  "language_info": {
   "codemirror_mode": {
    "name": "ipython",
    "version": 3
   },
   "file_extension": ".py",
   "mimetype": "text/x-python",
   "name": "python",
   "nbconvert_exporter": "python",
   "pygments_lexer": "ipython3",
   "version": "3.10.2"
  }
 },
 "nbformat": 4,
 "nbformat_minor": 2
}
