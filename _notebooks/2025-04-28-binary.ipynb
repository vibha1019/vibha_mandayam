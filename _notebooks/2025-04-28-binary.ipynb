{
 "cells": [
  {
   "cell_type": "markdown",
   "metadata": {},
   "source": [
    "---\n",
    "layout: post\n",
    "title: Binary HW\n",
    "permalink: /binary\n",
    "comments: true\n",
    "---"
   ]
  },
  {
   "cell_type": "code",
   "execution_count": 1,
   "metadata": {},
   "outputs": [],
   "source": [
    "def binary_add(a, b):\n",
    "    return bin(int(a, 2) + int(b, 2))[2:]\n",
    "\n",
    "def binary_subtract(a, b):\n",
    "    return bin(int(a, 2) - int(b, 2))[2:]\n",
    "\n",
    "def binary_multiply(a, b):\n",
    "    return bin(int(a, 2) * int(b, 2))[2:]\n",
    "\n",
    "def binary_divide(a, b):\n",
    "    if int(b, 2) == 0:\n",
    "        return \"Error: Division by zero\"\n",
    "    return bin(int(a, 2) // int(b, 2))[2:]\n",
    "\n",
    "def decimal_to_binary(n):\n",
    "    return bin(n)[2:]\n",
    "\n",
    "def main():\n",
    "    print(\"Welcome to the Binary Calculator!\")\n",
    "    print(\"Choose an option:\")\n",
    "    print(\"1. Add\")\n",
    "    print(\"2. Subtract\")\n",
    "    print(\"3. Multiply\")\n",
    "    print(\"4. Divide\")\n",
    "    print(\"5. Convert Decimal to Binary (Extra Credit)\")\n",
    "\n",
    "    choice = input(\"Enter choice (1/2/3/4/5): \")\n",
    "\n",
    "    if choice in ['1', '2', '3', '4']:\n",
    "        a = input(\"Enter first binary number: \")\n",
    "        b = input(\"Enter second binary number: \")\n",
    "\n",
    "        if choice == '1':\n",
    "            result = binary_add(a, b)\n",
    "            print(\"Result (Addition):\", result)\n",
    "        elif choice == '2':\n",
    "            result = binary_subtract(a, b)\n",
    "            print(\"Result (Subtraction):\", result)\n",
    "        elif choice == '3':\n",
    "            result = binary_multiply(a, b)\n",
    "            print(\"Result (Multiplication):\", result)\n",
    "        elif choice == '4':\n",
    "            result = binary_divide(a, b)\n",
    "            print(\"Result (Division):\", result)\n",
    "\n",
    "    elif choice == '5':\n",
    "        n = int(input(\"Enter a decimal number: \"))\n",
    "        result = decimal_to_binary(n)\n",
    "        print(\"Binary form:\", result)\n",
    "\n",
    "    else:\n",
    "        print(\"Invalid choice. Please run the program again.\")"
   ]
  }
 ],
 "metadata": {
  "kernelspec": {
   "display_name": "venv",
   "language": "python",
   "name": "python3"
  },
  "language_info": {
   "codemirror_mode": {
    "name": "ipython",
    "version": 3
   },
   "file_extension": ".py",
   "mimetype": "text/x-python",
   "name": "python",
   "nbconvert_exporter": "python",
   "pygments_lexer": "ipython3",
   "version": "3.13.1"
  }
 },
 "nbformat": 4,
 "nbformat_minor": 2
}
