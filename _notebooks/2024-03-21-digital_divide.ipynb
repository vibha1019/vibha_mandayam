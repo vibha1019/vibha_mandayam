{
 "cells": [
  {
   "cell_type": "markdown",
   "metadata": {},
   "source": [
    "---\n",
    "layout: post\n",
    "title: Digital Divide HW\n",
    "permalink: /github/pages/digital_divide\n",
    "type: ccc\n",
    "author: Vibha Mandayam\n",
    "---"
   ]
  },
  {
   "cell_type": "code",
   "execution_count": 2,
   "metadata": {
    "vscode": {
     "languageId": "javascript"
    }
   },
   "outputs": [
    {
     "data": {
      "application/javascript": "// Interactive Digital Divide Explorer\nfunction exploreDigitalDivide() {\n  // Select what data to display\n  const metric = prompt(\n    \"Which digital divide metric would you like to explore?\\n\" +\n    \"1: Income-based internet access\\n\" +\n    \"2: Urban vs rural access\\n\" +\n    \"3: Age-based internet usage\\n\" +\n    \"4: Global connectivity rates\"\n  );\n\n  // Sample data\n  const incomeData = {\n    categories: [\"Lowest 20%\", \"Second 20%\", \"Middle 20%\", \"Fourth 20%\", \"Highest 20%\"],\n    values: [62, 71, 80, 88, 95]\n  };\n\n  const locationData = {\n    categories: [\"Urban\", \"Rural\"],\n    values: [94, 83]\n  };\n\n  const ageData = {\n    categories: [\"18-29\", \"30-49\", \"50-64\", \"65+\"],\n    values: [97, 93, 88, 61]\n  };\n\n  const globalData = {\n    categories: [\"North America\", \"Europe\", \"Asia Pacific\", \"Latin America\", \"Middle East/Africa\"],\n    values: [90, 87, 54, 68, 40]\n  };\n\n  // Select dataset based on user choice\n  let data;\n  let title;\n\n  switch(metric) {\n    case \"1\":\n      data = incomeData;\n      title = \"Internet Access by Income Level (%)\";\n      break;\n    case \"2\":\n      data = locationData;\n      title = \"Urban vs Rural Internet Access (%)\";\n      break;\n    case \"3\":\n      data = ageData;\n      title = \"Internet Usage by Age Group (%)\";\n      break;\n    case \"4\":\n      data = globalData;\n      title = \"Internet Access by Region (%)\";\n      break;\n    default:\n      alert(\"Invalid selection!\");\n      return;\n  }\n\n  // Display the data (in a real app, this would create a chart)\n  console.log(title);\n  console.log(\"=\".repeat(title.length));\n\n  const maxValue = Math.max(...data.values);\n  const maxBarLength = 40;\n\n  for (let i = 0; i < data.categories.length; i++) {\n    const barLength = Math.round((data.values[i] / maxValue) * maxBarLength);\n    const bar = \"█\".repeat(barLength);\n    console.log(`${data.categories[i].padEnd(12)}: ${bar} ${data.values[i]}%`);\n  }\n}\n\n// Run this function to explore different aspects of the digital divide\n// exploreDigitalDivide();\n",
      "text/plain": [
       "<IPython.core.display.Javascript object>"
      ]
     },
     "metadata": {},
     "output_type": "display_data"
    }
   ],
   "source": [
    "%%js\n",
    "// Interactive Digital Divide Explorer\n",
    "function exploreDigitalDivide() {\n",
    "  // Select what data to display\n",
    "  const metric = prompt(\n",
    "    \"Which digital divide metric would you like to explore?\\n\" +\n",
    "    \"1: Income-based internet access\\n\" +\n",
    "    \"2: Urban vs rural access\\n\" +\n",
    "    \"3: Age-based internet usage\\n\" +\n",
    "    \"4: Global connectivity rates\"\n",
    "  );\n",
    "\n",
    "  // Sample data\n",
    "  const incomeData = {\n",
    "    categories: [\"Lowest 20%\", \"Second 20%\", \"Middle 20%\", \"Fourth 20%\", \"Highest 20%\"],\n",
    "    values: [62, 71, 80, 88, 95]\n",
    "  };\n",
    "\n",
    "  const locationData = {\n",
    "    categories: [\"Urban\", \"Rural\"],\n",
    "    values: [94, 83]\n",
    "  };\n",
    "\n",
    "  const ageData = {\n",
    "    categories: [\"18-29\", \"30-49\", \"50-64\", \"65+\"],\n",
    "    values: [97, 93, 88, 61]\n",
    "  };\n",
    "\n",
    "  const globalData = {\n",
    "    categories: [\"North America\", \"Europe\", \"Asia Pacific\", \"Latin America\", \"Middle East/Africa\"],\n",
    "    values: [90, 87, 54, 68, 40]\n",
    "  };\n",
    "\n",
    "  // Select dataset based on user choice\n",
    "  let data;\n",
    "  let title;\n",
    "\n",
    "  switch(metric) {\n",
    "    case \"1\":\n",
    "      data = incomeData;\n",
    "      title = \"Internet Access by Income Level (%)\";\n",
    "      break;\n",
    "    case \"2\":\n",
    "      data = locationData;\n",
    "      title = \"Urban vs Rural Internet Access (%)\";\n",
    "      break;\n",
    "    case \"3\":\n",
    "      data = ageData;\n",
    "      title = \"Internet Usage by Age Group (%)\";\n",
    "      break;\n",
    "    case \"4\":\n",
    "      data = globalData;\n",
    "      title = \"Internet Access by Region (%)\";\n",
    "      break;\n",
    "    default:\n",
    "      alert(\"Invalid selection!\");\n",
    "      return;\n",
    "  }\n",
    "\n",
    "  // Display the data (in a real app, this would create a chart)\n",
    "  console.log(title);\n",
    "  console.log(\"=\".repeat(title.length));\n",
    "\n",
    "  const maxValue = Math.max(...data.values);\n",
    "  const maxBarLength = 40;\n",
    "\n",
    "  for (let i = 0; i < data.categories.length; i++) {\n",
    "    const barLength = Math.round((data.values[i] / maxValue) * maxBarLength);\n",
    "    const bar = \"█\".repeat(barLength);\n",
    "    console.log(`${data.categories[i].padEnd(12)}: ${bar} ${data.values[i]}%`);\n",
    "  }\n",
    "}\n",
    "\n",
    "// Run this function to explore different aspects of the digital divide\n",
    "// exploreDigitalDivide();\n"
   ]
  },
  {
   "cell_type": "code",
   "execution_count": 3,
   "metadata": {
    "vscode": {
     "languageId": "javascript"
    }
   },
   "outputs": [
    {
     "data": {
      "application/javascript": "// Bridge the Divide Challenge Game\nfunction bridgeTheDivideGame() {\n    console.log(\"===============================================\");\n    console.log(\"🌉 BRIDGE THE DIVIDE: Digital Inclusion Challenge\");\n    console.log(\"===============================================\");\n    console.log(\"You are a technology policy advisor tasked with\");\n    console.log(\"helping communities overcome the digital divide.\");\n    console.log(\"Analyze each scenario and make the best decision!\\n\");\n  \n    let score = 0;\n    const totalQuestions = 5;\n  \n    // Scenario 1\n    console.log(\"SCENARIO 1: Rural Connectivity\");\n    console.log(\"A rural community of 500 families is located 50 miles from\");\n    console.log(\"the nearest broadband infrastructure. You have $200,000\");\n    console.log(\"in funding. What's your best approach?\");\n    console.log(\"A: Lay fiber optic cable to each home\");\n    console.log(\"B: Set up a wireless tower system\");\n    console.log(\"C: Provide satellite internet subsidies\");\n    console.log(\"D: Create a community center with high-speed internet\");\n  \n    const answer1 = prompt(\"Your choice (A/B/C/D):\").toUpperCase();\n    if (answer1 === \"B\") {\n      console.log(\"✓ Correct! A wireless tower system provides the best\");\n      console.log(\"  coverage for the investment in this rural setting.\");\n      score++;\n    } else {\n      console.log(\"✗ The best answer is B. Fiber would be too expensive,\");\n      console.log(\"  satellite has high latency issues, and a single center\");\n      console.log(\"  wouldn't provide sufficient access for all families.\");\n    }\n  \n    // Scenario 2\n    console.log(\"\\nSCENARIO 2: Digital Literacy\");\n    console.log(\"An urban neighborhood has new affordable internet access,\");\n    console.log(\"but adoption remains low at 30%. Investigation reveals many\");\n    console.log(\"residents lack digital skills. What approach would help most?\");\n    console.log(\"A: Reduce internet prices further\");\n    console.log(\"B: Distribute free tablets to all residents\");\n    console.log(\"C: Launch digital literacy workshops at local library\");\n    console.log(\"D: Create a tech support hotline\");\n  \n    const answer2 = prompt(\"Your choice (A/B/C/D):\").toUpperCase();\n    if (answer2 === \"C\") {\n      console.log(\"✓ Correct! Digital literacy workshops address the\");\n      console.log(\"  root cause - lack of skills - rather than just\");\n      console.log(\"  providing more access or support.\");\n      score++;\n    } else {\n      console.log(\"✗ The best answer is C. The primary barrier isn't\");\n      console.log(\"  cost or device ownership, but skill development.\");\n      console.log(\"  Workshops provide hands-on learning opportunities.\");\n    }\n  \n    // Add more scenarios as needed...\n  \n    // Final score\n    console.log(\"\\n===============================================\");\n    console.log(`FINAL SCORE: ${score}/${totalQuestions}`);\n    console.log(\"===============================================\");\n  \n    if (score === totalQuestions) {\n      console.log(\"🏆 Perfect! You're a digital inclusion expert!\");\n    } else if (score >= totalQuestions * 0.7) {\n      console.log(\"🥈 Good job! You have strong understanding of digital divide issues.\");\n    } else if (score >= totalQuestions * 0.5) {\n      console.log(\"👍 Decent effort, but review some of the concepts again.\");\n    } else {\n      console.log(\"📚 You need more study on digital divide solutions.\");\n    }\n  }\n  \n  // Run the game with: bridgeTheDivideGame();\n  \n",
      "text/plain": [
       "<IPython.core.display.Javascript object>"
      ]
     },
     "metadata": {},
     "output_type": "display_data"
    }
   ],
   "source": [
    "%%js\n",
    "// Bridge the Divide Challenge Game\n",
    "function bridgeTheDivideGame() {\n",
    "    console.log(\"===============================================\");\n",
    "    console.log(\"🌉 BRIDGE THE DIVIDE: Digital Inclusion Challenge\");\n",
    "    console.log(\"===============================================\");\n",
    "    console.log(\"You are a technology policy advisor tasked with\");\n",
    "    console.log(\"helping communities overcome the digital divide.\");\n",
    "    console.log(\"Analyze each scenario and make the best decision!\\n\");\n",
    "  \n",
    "    let score = 0;\n",
    "    const totalQuestions = 5;\n",
    "  \n",
    "    // Scenario 1\n",
    "    console.log(\"SCENARIO 1: Rural Connectivity\");\n",
    "    console.log(\"A rural community of 500 families is located 50 miles from\");\n",
    "    console.log(\"the nearest broadband infrastructure. You have $200,000\");\n",
    "    console.log(\"in funding. What's your best approach?\");\n",
    "    console.log(\"A: Lay fiber optic cable to each home\");\n",
    "    console.log(\"B: Set up a wireless tower system\");\n",
    "    console.log(\"C: Provide satellite internet subsidies\");\n",
    "    console.log(\"D: Create a community center with high-speed internet\");\n",
    "  \n",
    "    const answer1 = prompt(\"Your choice (A/B/C/D):\").toUpperCase();\n",
    "    if (answer1 === \"B\") {\n",
    "      console.log(\"✓ Correct! A wireless tower system provides the best\");\n",
    "      console.log(\"  coverage for the investment in this rural setting.\");\n",
    "      score++;\n",
    "    } else {\n",
    "      console.log(\"✗ The best answer is B. Fiber would be too expensive,\");\n",
    "      console.log(\"  satellite has high latency issues, and a single center\");\n",
    "      console.log(\"  wouldn't provide sufficient access for all families.\");\n",
    "    }\n",
    "  \n",
    "    // Scenario 2\n",
    "    console.log(\"\\nSCENARIO 2: Digital Literacy\");\n",
    "    console.log(\"An urban neighborhood has new affordable internet access,\");\n",
    "    console.log(\"but adoption remains low at 30%. Investigation reveals many\");\n",
    "    console.log(\"residents lack digital skills. What approach would help most?\");\n",
    "    console.log(\"A: Reduce internet prices further\");\n",
    "    console.log(\"B: Distribute free tablets to all residents\");\n",
    "    console.log(\"C: Launch digital literacy workshops at local library\");\n",
    "    console.log(\"D: Create a tech support hotline\");\n",
    "  \n",
    "    const answer2 = prompt(\"Your choice (A/B/C/D):\").toUpperCase();\n",
    "    if (answer2 === \"C\") {\n",
    "      console.log(\"✓ Correct! Digital literacy workshops address the\");\n",
    "      console.log(\"  root cause - lack of skills - rather than just\");\n",
    "      console.log(\"  providing more access or support.\");\n",
    "      score++;\n",
    "    } else {\n",
    "      console.log(\"✗ The best answer is C. The primary barrier isn't\");\n",
    "      console.log(\"  cost or device ownership, but skill development.\");\n",
    "      console.log(\"  Workshops provide hands-on learning opportunities.\");\n",
    "    }\n",
    "  \n",
    "    // Add more scenarios as needed...\n",
    "  \n",
    "    // Final score\n",
    "    console.log(\"\\n===============================================\");\n",
    "    console.log(`FINAL SCORE: ${score}/${totalQuestions}`);\n",
    "    console.log(\"===============================================\");\n",
    "  \n",
    "    if (score === totalQuestions) {\n",
    "      console.log(\"🏆 Perfect! You're a digital inclusion expert!\");\n",
    "    } else if (score >= totalQuestions * 0.7) {\n",
    "      console.log(\"🥈 Good job! You have strong understanding of digital divide issues.\");\n",
    "    } else if (score >= totalQuestions * 0.5) {\n",
    "      console.log(\"👍 Decent effort, but review some of the concepts again.\");\n",
    "    } else {\n",
    "      console.log(\"📚 You need more study on digital divide solutions.\");\n",
    "    }\n",
    "  }\n",
    "  \n",
    "  // Run the game with: bridgeTheDivideGame();\n",
    "  "
   ]
  },
  {
   "cell_type": "markdown",
   "metadata": {},
   "source": [
    "### 1. Three Dimensions of the Digital Divide and Their Impact on Educational Resources  \n",
    "The digital divide has three key dimensions: access to devices, internet connectivity, and digital literacy. First, students without access to computers or tablets struggle to complete assignments that require online research or digital tools. Second, unreliable or nonexistent internet access in low-income and rural areas limits students' ability to attend virtual classes or access educational materials. Finally, a lack of digital literacy prevents individuals from effectively using online learning platforms, creating barriers to acquiring knowledge and skills.  \n",
    "\n",
    "### 2. Urban vs. Rural Digital Divide Challenges and Solutions  \n",
    "Urban and rural communities face different digital divide challenges, with urban areas often struggling with affordability while rural areas face infrastructure limitations. In cities, high-speed internet may be available, but low-income families may not afford the cost of devices and monthly service fees. Conversely, rural communities often lack broadband infrastructure, making internet access unreliable or unavailable. Solutions include urban-focused subsidies for low-income households and government investments in expanding rural broadband infrastructure.\n"
   ]
  }
 ],
 "metadata": {
  "kernelspec": {
   "display_name": "venv",
   "language": "python",
   "name": "python3"
  },
  "language_info": {
   "codemirror_mode": {
    "name": "ipython",
    "version": 3
   },
   "file_extension": ".py",
   "mimetype": "text/x-python",
   "name": "python",
   "nbconvert_exporter": "python",
   "pygments_lexer": "ipython3",
   "version": "3.13.1"
  }
 },
 "nbformat": 4,
 "nbformat_minor": 2
}
