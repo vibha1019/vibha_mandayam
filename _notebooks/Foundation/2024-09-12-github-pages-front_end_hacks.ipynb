{
 "cells": [
  {
   "cell_type": "raw",
   "metadata": {
    "vscode": {
     "languageId": "raw"
    }
   },
   "source": [
    "---\n",
    "layout: post\n",
    "title: GitHub Planning \n",
    "description: Planning For Project\n",
    "categories: [Javascript]\n",
    "permalink: /github/pages/frontendhacks\n",
    "type: ccc\n",
    "author: Vibha Mandayam\n",
    "menu: nav/github_pages.html\n",
    "---"
   ]
  },
  {
   "cell_type": "markdown",
   "metadata": {},
   "source": [
    "Hacks Below\n",
    "- Data Type Hacks \n",
    "- DOM Hacks"
   ]
  },
  {
   "cell_type": "markdown",
   "metadata": {},
   "source": [
    "## Data Type Hacks"
   ]
  },
  {
   "cell_type": "markdown",
   "metadata": {},
   "source": []
  },
  {
   "cell_type": "code",
   "execution_count": null,
   "metadata": {
    "vscode": {
     "languageId": "javascript"
    }
   },
   "outputs": [],
   "source": [
    "// Object representing Vibha\n",
    "let vibha = {\n",
    "    name: \"Vibha\",\n",
    "    age: 15,\n",
    "    currentClasses: [\"AP Chem\", \"AP Calc\", \"AP Seminar\", \"AP CSP\",],\n",
    "    interests: [\"reading\", \"baking\"],\n",
    "    favoriteColor: \"Purple\",\n",
    "    favoriteArtists: [\"Dua Lipa\", \"Sabrina Carpenter\"]\n",
    "};\n",
    "\n",
    "// Print the entire object\n",
    "console.log(\"Original object:\", vibha);\n",
    "\n",
    "// Manipulate arrays within the object\n",
    "console.log(\"Object: mutating the key favoriteColor from purple to blue\")\n",
    "vibha.favoriteColor = \"blue\"\n",
    "\n",
    "// Print the modified object and specific changed key\n",
    "console.log(\"Modified favoriteColor:\", vibha.favoriteColor);\n",
    "\n",
    "// Perform mathematical operations\n",
    "let yearsTill18 = 18 - vibha.age;\n",
    "console.log(\"Years until Vibha turns 18:\", yearsTill18);\n",
    "\n",
    "let classCount = vibha.currentClasses.length;\n",
    "console.log(\"Number of classes Vibha is taking:\", classCount);\n",
    "\n",
    "// Use typeof to determine the types of fields\n",
    "console.log(\"Type of name:\", typeof vibha.name);\n",
    "console.log(\"Type of age:\", typeof vibha.age);\n",
    "console.log(\"Type of currentClasses:\", typeof vibha.currentClasses);\n"
   ]
  },
  {
   "cell_type": "markdown",
   "metadata": {},
   "source": [
    "## DOM Hacks"
   ]
  },
  {
   "cell_type": "code",
   "execution_count": null,
   "metadata": {
    "vscode": {
     "languageId": "html"
    }
   },
   "outputs": [],
   "source": [
    "%%html\n",
    "\n",
    "<div style=\"background-color: #da95f5; padding: 20px; border-radius: 15px;\">\n",
    "\t<h2 style=\"color: black;\">AP CSP Students Click Here!</h2>\n",
    "\t<p id=\"topParagraph\" style=\"color: black;\">\n",
    "\t  To properly prepare and excel in this class, there are many resources available to you. Click on the button below!\n",
    "\t</p>\n",
    "\t<button onclick=\"window.location.href='https://apcentral.collegeboard.org/courses/ap-computer-science-principles';\">\n",
    "\t  College Board!\n",
    "\t</button>\n",
    "  </div>\n",
    "  \n",
    "  <p></p>\n",
    "  \n",
    "  <div style=\"background-color: #da95f5; padding: 20px; border-radius: 15px;\">\n",
    "\t<h2 style=\"color: black;\">Programming Help</h2>\n",
    "\t<a id=\"cssLink\" href=\"https://www.w3schools.com/css/\">\n",
    "\t  <button class=\"block\"><b>CSS Help</b></button>\n",
    "\t</a>\n",
    "\t<p></p>\n",
    "\t<a id=\"htmlLink\" href=\"https://www.w3schools.com/html/\">\n",
    "\t  <button class=\"block\"><b>HTML Help</b></button>\n",
    "\t</a>\n",
    "\t<p style=\"color: black;\">Use the links above to navigate to the programming language of your choosing!</p>\n",
    "\t<button onclick=\"switchLinks()\">Switch Links</button>\n",
    "  </div>\n",
    "  \n",
    "  <script>\n",
    "\tfunction switchLinks() {\n",
    "\t  // Get the links\n",
    "\t  let cssLink = document.getElementById('cssLink');\n",
    "\t  let htmlLink = document.getElementById('htmlLink');\n",
    "\t  \n",
    "\t  // Swap the href values\n",
    "\t  let tempHref = cssLink.href;\n",
    "\t  cssLink.href = htmlLink.href;\n",
    "\t  htmlLink.href = tempHref;\n",
    "\t  \n",
    "\t  // Change the innerHTML of the top p tag\n",
    "\t  document.getElementById('topParagraph').innerHTML = \"Switched!\";\n",
    "\t  \n",
    "\t  // Log the change\n",
    "\t  console.log(\"Links have been switched!\");\n",
    "\t}\n",
    "  </script>\n",
    "  "
   ]
  },
  {
   "cell_type": "markdown",
   "metadata": {},
   "source": [
    "## JavaScript Hacks"
   ]
  },
  {
   "cell_type": "code",
   "execution_count": null,
   "metadata": {
    "vscode": {
     "languageId": "javascript"
    }
   },
   "outputs": [],
   "source": [
    "%%js\n",
    "let a = 2;\n",
    "let b = 7;\n",
    "\n",
    "if (a > b) {\n",
    "    console.log(\"a is greater\");\n",
    "} else if (b > a) {\n",
    "    console.log(\"b is greater\");\n",
    "} else {\n",
    "    console.log(\"both are equal\");\n",
    "}\n",
    "\n",
    "let x = 10;\n",
    "let y = 5;\n",
    "\n",
    "// Addition\n",
    "let addition = x + y;\n",
    "console.log(\"Addition: \" + addition);\n",
    "\n",
    "// Subtraction\n",
    "let subtraction = x - y;\n",
    "console.log(\"Subtraction: \" + subtraction);\n",
    "\n",
    "// Multiplication\n",
    "let multiplication = x * y;\n",
    "console.log(\"Multiplication: \" + multiplication);\n",
    "\n",
    "// Division\n",
    "let division = x / y;\n",
    "console.log(\"Division: \" + division);\n",
    "\n",
    "// Modulo\n",
    "let modulo = x % y;\n",
    "console.log(\"Modulo: \" + modulo);\n",
    "\n",
    "// Exponentiation\n",
    "let exponentiation = x ** y;\n",
    "console.log(\"Exponentiation: \" + exponentiation);\n"
   ]
  }
 ],
 "metadata": {
  "kernelspec": {
   "display_name": "Python 3",
   "language": "python",
   "name": "python3"
  },
  "language_info": {
   "codemirror_mode": {
    "name": "ipython",
    "version": 3
   },
   "file_extension": ".py",
   "mimetype": "text/x-python",
   "name": "python",
   "nbconvert_exporter": "python",
   "pygments_lexer": "ipython3",
   "version": "3.11.9"
  },
  "orig_nbformat": 4
 },
 "nbformat": 4,
 "nbformat_minor": 2
}
