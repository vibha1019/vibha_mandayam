{
 "cells": [
  {
   "cell_type": "markdown",
   "metadata": {},
   "source": [
    "3.5 Python Popcorn Hacks"
   ]
  },
  {
   "cell_type": "code",
   "execution_count": null,
   "metadata": {},
   "outputs": [],
   "source": [
    "def check_number(num):\n",
    "\tif num >= 0:\n",
    "\t\tprint(\"Number is nonnegative\")\n",
    "\telse:\n",
    "\t\tprint(\"number is negative\")\n",
    "\n",
    "n = int(input())\n",
    "check_number(n)"
   ]
  },
  {
   "cell_type": "code",
   "execution_count": null,
   "metadata": {},
   "outputs": [],
   "source": [
    "def findVowel(char):\n",
    "\tif char.lower() in \"aeiou\":\n",
    "\t\tprint(\"the character is a vowel\")\n",
    "\telse:\n",
    "\t\tprint(\"not a vowel\")\n",
    "\n",
    "letter = str(input())\n",
    "findVowel(letter)"
   ]
  },
  {
   "cell_type": "markdown",
   "metadata": {},
   "source": [
    "3.5 Python Homework Hacks"
   ]
  },
  {
   "cell_type": "markdown",
   "metadata": {},
   "source": [
    "3.5 Javascript Python Hacks"
   ]
  }
 ],
 "metadata": {
  "language_info": {
   "name": "python"
  }
 },
 "nbformat": 4,
 "nbformat_minor": 2
}
