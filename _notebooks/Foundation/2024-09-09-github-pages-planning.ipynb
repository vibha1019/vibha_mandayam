{
 "cells": [
  {
   "cell_type": "raw",
   "metadata": {
    "vscode": {
     "languageId": "raw"
    }
   },
   "source": [
    "---\n",
    "layout: post\n",
    "title: GitHub Planning \n",
    "description: Planning For Project\n",
    "categories: [Javascript]\n",
    "permalink: /github/pages/planning\n",
    "type: ccc\n",
    "author: Vibha Mandayam\n",
    "menu: nav/github_pages.html\n",
    "---"
   ]
  },
  {
   "cell_type": "markdown",
   "metadata": {},
   "source": [
    "# Planning \n",
    "\n",
    "## Attempted Tasks\n",
    "- Changing the color and styles of the theme using SASS\n",
    "- Adding buttons in the home page\n",
    "- Adding 3 jupyter notebooks\n",
    "  - Make one of the Notebooks a planning document on what you attempted to do versus accomplishment.\n",
    "  - Make one of the Notebooks running a JavaScript cell\n",
    "  - Make one of the Notebooks and About Pages\n",
    "\n",
    "\n",
    "## Accomplishments\n",
    "- Changed the SASS in order to customize the colors for my home page\n",
    "- Buttons correctly link to other websites\n",
    "- Emojis added in jupyter notebook below"
   ]
  },
  {
   "cell_type": "code",
   "execution_count": null,
   "metadata": {},
   "outputs": [],
   "source": [
    "import emoji\n",
    "from emoji import emojize \n",
    "\n",
    "print(emojize(\"I love jupyter notebooks! :thumbs_up: :notebook:\"))\n",
    "print(emojize(\"I look forward to learning more :pencil:\"))\n",
    "\n",
    "\n",
    "\n"
   ]
  }
 ],
 "metadata": {
  "kernelspec": {
   "display_name": "Python 3",
   "language": "python",
   "name": "python3"
  },
  "language_info": {
   "codemirror_mode": {
    "name": "ipython",
    "version": 3
   },
   "file_extension": ".py",
   "mimetype": "text/x-python",
   "name": "python",
   "nbconvert_exporter": "python",
   "pygments_lexer": "ipython3",
   "version": "3.11.9"
  },
  "orig_nbformat": 4
 },
 "nbformat": 4,
 "nbformat_minor": 2
}
