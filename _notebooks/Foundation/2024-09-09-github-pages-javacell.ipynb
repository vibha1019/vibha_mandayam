{
 "cells": [
  {
   "cell_type": "raw",
   "metadata": {
    "vscode": {
     "languageId": "raw"
    }
   },
   "source": [
    "---\n",
    "layout: post\n",
    "title: Random Ice Cream Facts \n",
    "description: Javascript Cell\n",
    "categories: [Javascript]\n",
    "permalink: /github/pages/javacell\n",
    "type: ccc\n",
    "author: Vibha Mandayam\n",
    "menu: nav/github_pages.html\n",
    "---"
   ]
  },
  {
   "cell_type": "markdown",
   "metadata": {},
   "source": [
    "# Random Ice Cream Facts Script (JavaScript)\n",
    "This notebook includes a JavaScript script that outputs a random fact about ice cream from a predefined list of 10 facts. Below is a brief explanation of how the process works:\n",
    "\n",
    "Array of Facts: We define an array called facts that stores 10 random facts about ice cream. Each fact is a string within this array.\n",
    "\n",
    "Random Index Generation:\n",
    "\n",
    "The getRandomFact function uses Math.random() to generate a random number between 0 and 1.\n",
    "We then multiply this number by the length of the facts array and use Math.floor() to round it down to the nearest whole number. This gives us a valid random index for the array.\n",
    "Displaying a Fact:\n",
    "\n",
    "The function selects the fact at the randomly generated index and prints it to the console using console.log().\n",
    "Function Call: Finally, we call the getRandomFact function to display one random fact each time the script is run.\n",
    "\n"
   ]
  },
  {
   "cell_type": "code",
   "execution_count": null,
   "metadata": {
    "vscode": {
     "languageId": "javascript"
    }
   },
   "outputs": [],
   "source": [
    "%%javascript\n",
    "// Array of 10 random facts about ice cream\n",
    "const facts = [\n",
    "    \"Ice cream was first invented in China around 200 BC.\",\n",
    "    \"The United States consumes the most ice cream in the world.\",\n",
    "    \"Vanilla is the most popular ice cream flavor.\",\n",
    "    \"It takes about 12 pounds of milk to make one gallon of ice cream.\",\n",
    "    \"The waffle cone was invented in 1904 at the World's Fair.\",\n",
    "    \"July is the national ice cream month in the United States.\",\n",
    "    \"The most expensive ice cream sundae costs $25,000.\",\n",
    "    \"The first ice cream parlor in the U.S. opened in New York City in 1790.\",\n",
    "    \"Ice cream headaches occur when cold hits nerves in the mouth.\",\n",
    "    \"New Zealand consumes more ice cream per capita than any other country.\"\n",
    "];\n",
    "\n",
    "function getRandomFact() {\n",
    "    const randomIndex = Math.floor(Math.random() * facts.length);\n",
    "    console.log(\"Random Ice Cream Fact: \" + facts[randomIndex]);\n",
    "}\n",
    "\n",
    "getRandomFact();\n"
   ]
  }
 ],
 "metadata": {
  "kernelspec": {
   "display_name": "Python 3",
   "language": "python",
   "name": "python3"
  },
  "language_info": {
   "codemirror_mode": {
    "name": "ipython",
    "version": 3
   },
   "file_extension": ".py",
   "mimetype": "text/x-python",
   "name": "python",
   "nbconvert_exporter": "python",
   "pygments_lexer": "ipython3",
   "version": "3.11.9"
  },
  "orig_nbformat": 4
 },
 "nbformat": 4,
 "nbformat_minor": 2
}
