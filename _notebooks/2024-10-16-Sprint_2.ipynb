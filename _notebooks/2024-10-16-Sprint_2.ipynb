{
 "cells": [
  {
   "cell_type": "raw",
   "metadata": {
    "vscode": {
     "languageId": "raw"
    }
   },
   "source": [
    "---\n",
    "layout: post\n",
    "title: Sprint 2 Learning\n",
    "description: What I learned throughout Sprint 2\n",
    "permalink: /github/pages/sprint_2\n",
    "type: ccc\n",
    "author: Vibha Mandayam\n",
    "---"
   ]
  },
  {
   "cell_type": "markdown",
   "metadata": {},
   "source": [
    "## What I learned in Each Lesson\n",
    "\n",
    "- **3.1:** Variables and Data Types (`int`, `str`, `bool`, `float`, `list`, and `dictionary`)\n",
    "- **3.2:** More in-depth explanations of Integers, Floats, Strings, Lists, Tuples, Dictionaries, Sets, Booleans, and Null\n",
    "- **3.3:** Mathematical Expressions (Sequencing and various operations)\n",
    "- **3.4:** Strings and Functions\n",
    "- **3.5:** Booleans\n",
    "- **3.8:** Loops (While Loops and For Loops)\n",
    "- **3.10:** List, Dictionary, and Array Manipulation\n"
   ]
  },
  {
   "cell_type": "markdown",
   "metadata": {},
   "source": [
    "## Relevancy Checklist\n",
    "\n",
    "| **Assignment**           | **Weightage** | **Grade** | **Comments** |\n",
    "|--------------------------|---------------|-----------|--------------|\n",
    "| College Board Coverage    | 20            | TBD       | TBD          |\n",
    "| Python Examples           | 15            | TBD       | TBD          |\n",
    "| JavaScript Examples       | 15            | TBD       | TBD          |\n",
    "| Popcorn Hack Usage        | 10            | TBD       | TBD          |\n",
    "| Homework                  | 10            | TBD       | TBD          |\n",
    "| Grading Plan              | 10            | TBD       | TBD          |\n",
    "| Original and Creative     | 10            | TBD       | TBD          |\n",
    "| **Total**                 | **90**        |           |              |\n"
   ]
  },
  {
   "cell_type": "markdown",
   "metadata": {
    "vscode": {
     "languageId": "raw"
    }
   },
   "source": [
    "## Personal Growth\n",
    "One unique thing our team did was customize our lesson pages to make them more engaging, and we used games to check how well the class understood the material and motivate them to do their homework.\n",
    "\n",
    "In Sprint 2, my biggest achievement was creating a lesson that made learning about nested conditionals fun and effective. I could tell the class understood the material because they did really well on the Kahoot quiz we made. The high average score showed that the lesson worked. I also gained a better understanding of Python and JavaScript thanks to the lessons from my classmates, and I now feel more confident using both languages."
   ]
  }
 ],
 "metadata": {
  "language_info": {
   "name": "python"
  }
 },
 "nbformat": 4,
 "nbformat_minor": 2
}
