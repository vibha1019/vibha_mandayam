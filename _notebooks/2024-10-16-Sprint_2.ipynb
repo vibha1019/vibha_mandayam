{
 "cells": [
  {
   "cell_type": "raw",
   "metadata": {
    "vscode": {
     "languageId": "raw"
    }
   },
   "source": [
    "---\n",
    "layout: post\n",
    "title: Sprint 2 Learning\n",
    "description: What I learned throughout Sprint 2\n",
    "permalink: /github/pages/sprint_2\n",
    "type: ccc\n",
    "author: Vibha Mandayam\n",
    "---"
   ]
  },
  {
   "cell_type": "markdown",
   "metadata": {},
   "source": [
    "## What I learned in Each Lesson\n",
    "\n",
    "3.1: Variables and Data Types (int, str, bool, float, list, and dictionary)\n",
    "3.2: More in-depth explanations of Integers, Floats, Strings, Lists, Tuples, Dictionaries, Sets, Booleans, and Null\n",
    "3.3: Mathematical Expressions ( Sequencing and various operations)\n",
    "3.4: Strings and Functions\n",
    "3.5: Booleans\n",
    "3.8: Loops (While Loops and For Loops)\n",
    "3.10: List, Dictionary, and Array Manipulation\n"
   ]
  },
  {
   "cell_type": "markdown",
   "metadata": {},
   "source": [
    "## Relevancy Checklist \n",
    " | **Assignment**          | **Weightage** | **Grade** | **Comments** |\n",
    "|-------------------------|---------------|-----------|--------------|\n",
    "| College Board Coverage  | 20            | TBD       | TBD          |\n",
    "| Python Examples         | 15            | TBD       | TBD          |\n",
    "| JavaScript Examples     | 15            | TBD       | TBD          |\n",
    "| Popcorn Hack Usage      | 10            | TBD       | TBD          |\n",
    "| Homework                | 10            | TBD       | TBD          |\n",
    "| Grading Plan            | 10            | TBD       | TBD          |\n",
    "| Original an Creative    | 10            | TBD       | TBD          |\n",
    "| **Total**               | **90**        |           |              |"
   ]
  },
  {
   "cell_type": "markdown",
   "metadata": {
    "vscode": {
     "languageId": "raw"
    }
   },
   "source": [
    "## Personal Growth\n",
    "Unique Element: Our team customized our lesson pages to bring engagement to the class, and we played games with the class to check their understanding and motivate them for the homework.\n",
    "\n",
    "My personal accomplishment of Sprint 2 was creating an engaging lesson that effectively taught my classmates about nested conditionals. I was able to gauge their level of understanding by the class’s overall performance on the Kahoot we created. The average Kahoot score was high, and therefore, my lesson was successful. I also learned many different parts of the Python and Javascript languages and feel much more comfortable with these languages than before because of my classmates’ lessons.\n",
    "\n"
   ]
  }
 ],
 "metadata": {
  "language_info": {
   "name": "python"
  }
 },
 "nbformat": 4,
 "nbformat_minor": 2
}
