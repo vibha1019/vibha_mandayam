{
 "cells": [
  {
   "cell_type": "raw",
   "metadata": {
    "vscode": {
     "languageId": "raw"
    }
   },
   "source": [
    "---\n",
    "layout: post\n",
    "title: Sprint 2 Learning\n",
    "description: What I learned throughout Sprint 2\n",
    "permalink: /github/pages/sprint_2\n",
    "type: ccc\n",
    "author: Vibha Mandayam\n",
    "---"
   ]
  },
  {
   "cell_type": "markdown",
   "metadata": {},
   "source": [
    "## What I Learned in Each Lesson\n",
    "\n",
    "- **3.1:** Variables and Data Types\n",
    "  - Introduction to basic Python data types such as `int`, `str`, `bool`, and `float`. Understanding how to create and manipulate lists and dictionaries, which are essential for organizing and storing data.\n",
    "\n",
    "- **3.2:** More In-Depth Explanations of Data Types\n",
    "  - Explored advanced uses of data types like Lists, Tuples, Dictionaries, and Sets, and how each is uniquely suited for different types of data storage. Also touched on Booleans and the `None` type for handling true/false values and nulls.\n",
    "\n",
    "- **3.3:** Mathematical Expressions\n",
    "  - Understanding the flow of operations in a sequence, learning basic mathematical operators (`+`, `-`, `*`, `/`, `%`) and how to create complex expressions by combining these operators to manipulate numeric data.\n",
    "\n",
    "- **3.4:** Strings and Functions\n",
    "  - Learning the versatility of strings and how to use built-in functions to manipulate them. Explored methods like slicing, concatenation, and string formatting to better control text data in Python.\n",
    "\n",
    "- **3.5:** Booleans\n",
    "  - Learning Boolean logic, conditional statements, and how Python evaluates expressions as `True` or `False`. This lesson also covered comparison operators and their role in controlling the flow of a program.\n",
    "\n",
    "- **3.8:** Loops\n",
    "  - Introduction to iteration using `while` and `for` loops. Focused on the ability to repeatedly execute a block of code based on conditions, which is essential for tasks like processing lists or repeating actions.\n",
    "\n",
    "- **3.10:** List, Dictionary, and Array Manipulation\n",
    "  - Practical ways to modify and access elements within Lists, Dictionaries, and Arrays. Covered essential techniques like indexing, slicing, adding, removing, and updating elements.\n"
   ]
  },
  {
   "cell_type": "markdown",
   "metadata": {},
   "source": [
    "## Relevancy Checklist\n",
    "\n",
    "| **Assignment**           | **Weightage** | **Grade** | **Comments** |\n",
    "|--------------------------|---------------|-----------|--------------|\n",
    "| College Board Coverage    | 20            | TBD       | TBD          |\n",
    "| Python Examples           | 15            | TBD       | TBD          |\n",
    "| JavaScript Examples       | 15            | TBD       | TBD          |\n",
    "| Popcorn Hack Usage        | 10            | TBD       | TBD          |\n",
    "| Homework                  | 10            | TBD       | TBD          |\n",
    "| Grading Plan              | 10            | TBD       | TBD          |\n",
    "| Original and Creative     | 10            | TBD       | TBD          |\n",
    "| **Total**                 | **90**        |           |              |\n"
   ]
  },
  {
   "cell_type": "markdown",
   "metadata": {
    "vscode": {
     "languageId": "raw"
    }
   },
   "source": [
    "## Personal Growth\n",
    "One unique thing our team did was customize our lesson pages to make them more engaging, and we used a Kahoot to check how well the class understood the material and motivate them to do their homework.\n",
    "\n",
    "In Sprint 2, my biggest achievement was creating a lesson that made learning about conditionals fun and effective. I could tell the class understood the material because they did really well on the Kahoot quiz we made.\n",
    "\n",
    "We effectively addressed college board requirements by checking their syllabus and making sure we picked examples and hacks from there. "
   ]
  },
  {
   "cell_type": "markdown",
   "metadata": {},
   "source": []
  }
 ],
 "metadata": {
  "language_info": {
   "name": "python"
  }
 },
 "nbformat": 4,
 "nbformat_minor": 2
}
