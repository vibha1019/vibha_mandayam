{
 "cells": [
  {
   "cell_type": "markdown",
   "metadata": {},
   "source": [
    "3.3 Python Popcorn Hacks"
   ]
  },
  {
   "cell_type": "code",
   "execution_count": 13,
   "metadata": {},
   "outputs": [
    {
     "name": "stdout",
     "output_type": "stream",
     "text": [
      "10\n"
     ]
    }
   ],
   "source": [
    "# Hack 1\n",
    "num_list = [1, 2, 3, 4]\n",
    "print(sum(num_list))"
   ]
  },
  {
   "cell_type": "code",
   "execution_count": 15,
   "metadata": {},
   "outputs": [
    {
     "name": "stdout",
     "output_type": "stream",
     "text": [
      "2\n"
     ]
    }
   ],
   "source": [
    "# Hack 2\n",
    "price = int(input())\n",
    "bags = int(input())\n",
    "total_cost = price * bags\n",
    "print(total_cost)"
   ]
  },
  {
   "cell_type": "code",
   "execution_count": 1,
   "metadata": {},
   "outputs": [
    {
     "name": "stdout",
     "output_type": "stream",
     "text": [
      "1\n"
     ]
    }
   ],
   "source": [
    "# Hack 3\n",
    "\n",
    "num = int(input())\n",
    "total_sum = 0\n",
    "for i in range (1, num + 1):\n",
    "\ttotal_sum += i\n",
    "\n",
    "print(total_sum)"
   ]
  },
  {
   "cell_type": "markdown",
   "metadata": {},
   "source": [
    "3.3 Python Homework Hacks"
   ]
  },
  {
   "cell_type": "code",
   "execution_count": 2,
   "metadata": {},
   "outputs": [],
   "source": [
    "def computeMeanandMedian(nums):\n",
    "    mean = sum(nums) / len(nums)\n",
    "    \n",
    "    sorted_nums = sorted(nums)\n",
    "    nums_len = len(nums)\n",
    "    \n",
    "    if n % 2 == 0: \n",
    "        median = (sorted_nums[nums_len // (2 - 1)] + sorted_nums[nums_len // 2]) / 2\n",
    "    else: \n",
    "        median = sorted_nums[nums_len // 2]\n",
    "    \n",
    "    # Print the results\n",
    "    print(f\"Mean: {mean}\")\n",
    "    print(f\"Median: {median}\")"
   ]
  },
  {
   "cell_type": "code",
   "execution_count": 3,
   "metadata": {},
   "outputs": [
    {
     "name": "stdout",
     "output_type": "stream",
     "text": [
      "[5, 16, 8, 4, 2, 1]\n"
     ]
    }
   ],
   "source": [
    "def collatzConjecture(num):\n",
    "\tcollatz = [num]\n",
    "\n",
    "\twhile num != 1:\n",
    "\t\tif num % 2 == 0:\n",
    "\t\t\tnum = num // 2\n",
    "\n",
    "\t\telse:\n",
    "\t\t\tnum = (3 * num) + 1\n",
    "\n",
    "\t\tcollatz.append(num)\n",
    "\n",
    "\tprint(collatz)\n",
    "\n",
    "collatzConjecture(5)"
   ]
  },
  {
   "cell_type": "markdown",
   "metadata": {},
   "source": [
    "Javascript Popcorn Hacks"
   ]
  },
  {
   "cell_type": "code",
   "execution_count": 18,
   "metadata": {
    "vscode": {
     "languageId": "javascript"
    }
   },
   "outputs": [
    {
     "name": "stdout",
     "output_type": "stream",
     "text": [
      "32.0\n"
     ]
    }
   ],
   "source": [
    "print((10 + 6) * 4 / 2 - 0)"
   ]
  },
  {
   "cell_type": "code",
   "execution_count": 4,
   "metadata": {
    "vscode": {
     "languageId": "javascript"
    }
   },
   "outputs": [
    {
     "ename": "SyntaxError",
     "evalue": "invalid syntax (2108762101.py, line 1)",
     "output_type": "error",
     "traceback": [
      "\u001b[0;36m  Cell \u001b[0;32mIn[4], line 1\u001b[0;36m\u001b[0m\n\u001b[0;31m    function makeSandwich() {\u001b[0m\n\u001b[0m             ^\u001b[0m\n\u001b[0;31mSyntaxError\u001b[0m\u001b[0;31m:\u001b[0m invalid syntax\n"
     ]
    }
   ],
   "source": [
    "%%js\n",
    "function makeSandwich() {\n",
    "\tlet ingredients = [];\n",
    "  \n",
    "\tfor (let i = 1; i <= 3; i++) {\n",
    "\t  let ingredient = prompt(`Add ingredient ${i} to your sandwich:`);\n",
    "\t  ingredients.push(ingredient);\n",
    "\t}\n",
    "  \n",
    "\tlet sandwichName = prompt(\"Give your sandwich a name:\");\n",
    "  \n",
    "\tconsole.log(`Your sandwich \"${sandwichName}\" is ready with the following ingredients:`);\n",
    "  }\n",
    "  \n",
    "  makeSandwich();\n",
    "  \n"
   ]
  },
  {
   "cell_type": "code",
   "execution_count": null,
   "metadata": {
    "vscode": {
     "languageId": "javascript"
    }
   },
   "outputs": [],
   "source": [
    "%%js\n",
    "function startGame() {\n",
    "\talert(\"Welcome to the Food Adventure!\");\n",
    "  \n",
    "\t// Start the first storyline\n",
    "\tlet choice1 = prompt(\"You walk into a new restaurant and the chef offers you two specials. Do you pick (1) the mysterious dish or (2) the chef's signature dish? Type 1 or 2:\");\n",
    "  \n",
    "\tif (choice1 == \"1\") {\n",
    "\t  // Storyline 1: The Mysterious Dish\n",
    "\t  let choice2 = prompt(\"You chose the mysterious dish. It arrives, and it's an exotic seafood platter you've never seen before. Do you (1) try it or (2) send it back?\");\n",
    "\t  \n",
    "\t  if (choice2 == \"1\") {\n",
    "\t\tlet choice3 = prompt(\"You take a bite and it's surprisingly delicious! The chef offers you a challenge: finish the whole platter to get a free meal. Do you (1) accept the challenge or (2) politely decline?\");\n",
    "\t\tif (choice3 == \"1\") {\n",
    "\t\t  alert(\"You bravely finish the whole platter! The chef is impressed and gives you a free meal voucher. You win!\");\n",
    "\t\t} else if (choice3 == \"2\") {\n",
    "\t\t  alert(\"You politely decline and enjoy the rest of your meal. You leave full and satisfied. The end!\");\n",
    "\t\t} else {\n",
    "\t\t  alert(\"Invalid choice, try again.\");\n",
    "\t\t}\n",
    "\t  } else if (choice2 == \"2\") {\n",
    "\t\talert(\"You send the dish back and order something familiar. The meal is fine, but nothing special. Game over.\");\n",
    "\t  } else {\n",
    "\t\talert(\"Invalid choice, try again.\");\n",
    "\t  }\n",
    "  \n",
    "\t} else if (choice1 == \"2\") {\n",
    "\t  // Storyline 2: The Chef's Signature Dish\n",
    "\t  let choice4 = prompt(\"You chose the chef's signature dish, a perfectly grilled steak. It arrives with a fancy sauce you've never tasted before. Do you (1) pour the sauce on the steak or (2) keep the steak plain?\");\n",
    "\t  \n",
    "\t  if (choice4 == \"1\") {\n",
    "\t\talert(\"You pour the sauce and it's amazing! The chef compliments your adventurous spirit. You win!\");\n",
    "\t  } else if (choice4 == \"2\") {\n",
    "\t\talert(\"You keep it plain and enjoy a classic steak. It's good, but you wonder what the sauce tasted like. The end.\");\n",
    "\t  } else {\n",
    "\t\talert(\"Invalid choice, try again.\");\n",
    "\t  }\n",
    "  \n",
    "\t} else {\n",
    "\t  alert(\"Invalid choice, try again.\");\n",
    "\t}\n",
    "  }\n",
    "  \n",
    "  // Start the game\n",
    "  startGame();\n",
    "  "
   ]
  },
  {
   "cell_type": "markdown",
   "metadata": {
    "vscode": {
     "languageId": "javascript"
    }
   },
   "source": [
    "Javascript Homework Hacks"
   ]
  },
  {
   "cell_type": "code",
   "execution_count": null,
   "metadata": {
    "vscode": {
     "languageId": "javascript"
    }
   },
   "outputs": [],
   "source": [
    "%%js\n",
    "function gcdAndLcm(a, b) {\n",
    "\t// Helper function to compute the GCD using the Euclidean algorithm\n",
    "\tfunction gcd(x, y) {\n",
    "\t  while (y !== 0) {\n",
    "\t\tlet temp = y;\n",
    "\t\ty = x % y;\n",
    "\t\tx = temp;\n",
    "\t  }\n",
    "\t  return x;\n",
    "\t}\n",
    "  \n",
    "\t// Compute GCD\n",
    "\tconst gcdResult = gcd(a, b);\n",
    "  \n",
    "\t// Compute LCM using the relation: LCM(a, b) = (a * b) / GCD(a, b)\n",
    "\tconst lcmResult = (a * b) / gcdResult;\n",
    "  \n",
    "\t// Return the results as an object\n",
    "\treturn {\n",
    "\t  gcd: gcdResult,\n",
    "\t  lcm: lcmResult\n",
    "\t};\n",
    "  }\n",
    "  \n",
    "  // Example usage\n",
    "  const result = gcdAndLcm(12, 18);\n",
    "  console.log(result); // { gcd: 6, lcm: 36 }\n",
    "  "
   ]
  },
  {
   "cell_type": "code",
   "execution_count": null,
   "metadata": {
    "vscode": {
     "languageId": "javascript"
    }
   },
   "outputs": [],
   "source": [
    "%%js\n",
    "function primeFactors(n) {\n",
    "\tconst factors = [];\n",
    "  \n",
    "\t// Check for number of 2s that divide n\n",
    "\twhile (n % 2 === 0) {\n",
    "\t  factors.push(2);\n",
    "\t  n /= 2;\n",
    "\t}\n",
    "  \n",
    "\t// Check for odd factors from 3 up to the square root of n\n",
    "\tfor (let i = 3; i <= Math.sqrt(n); i += 2) {\n",
    "\t  while (n % i === 0) {\n",
    "\t\tfactors.push(i);\n",
    "\t\tn /= i;\n",
    "\t  }\n",
    "\t}\n",
    "  \n",
    "\t// If n is a prime number greater than 2\n",
    "\tif (n > 2) {\n",
    "\t  factors.push(n);\n",
    "\t}\n",
    "  \n",
    "\treturn factors;\n",
    "  }\n",
    "  \n",
    "  // Example usage\n",
    "  console.log(primeFactors(28)); // Output: [2, 2, 7]\n",
    "  console.log(primeFactors(29)); // Output: [29]\n",
    "  "
   ]
  }
 ],
 "metadata": {
  "kernelspec": {
   "display_name": "venv",
   "language": "python",
   "name": "python3"
  },
  "language_info": {
   "codemirror_mode": {
    "name": "ipython",
    "version": 3
   },
   "file_extension": ".py",
   "mimetype": "text/x-python",
   "name": "python",
   "nbconvert_exporter": "python",
   "pygments_lexer": "ipython3",
   "version": "3.12.3"
  }
 },
 "nbformat": 4,
 "nbformat_minor": 2
}
